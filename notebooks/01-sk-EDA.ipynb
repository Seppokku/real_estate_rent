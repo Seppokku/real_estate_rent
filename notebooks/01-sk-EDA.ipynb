{
 "cells": [
  {
   "metadata": {
    "ExecuteTime": {
     "end_time": "2024-06-20T08:40:32.734081Z",
     "start_time": "2024-06-20T08:40:31.504301Z"
    }
   },
   "cell_type": "code",
   "source": [
    "import pandas as pd\n",
    "import numpy as np\n",
    "pd.options.display.float_format = '{:,.2f}'.format\n",
    "\n",
    "import matplotlib as mpl\n",
    "import matplotlib.pyplot as plt\n",
    "import seaborn as sns\n",
    "plt.style.use('https://github.com/dhaitz/matplotlib-stylesheets/raw/master/pitayasmoothie-dark.mplstyle')\n",
    "\n",
    "from rent_module import rent_funcs"
   ],
   "id": "73a0dc1250803d3e",
   "outputs": [],
   "execution_count": 2
  },
  {
   "metadata": {
    "ExecuteTime": {
     "end_time": "2024-06-20T08:40:33.151247Z",
     "start_time": "2024-06-20T08:40:32.736150Z"
    }
   },
   "cell_type": "code",
   "source": [
    "# записываем даннные в датафрейм объект\n",
    "df = pd.read_csv('../data/raw/_data.csv')"
   ],
   "id": "95db92b57803ca69",
   "outputs": [],
   "execution_count": 3
  },
  {
   "metadata": {
    "ExecuteTime": {
     "end_time": "2024-06-20T08:40:33.160805Z",
     "start_time": "2024-06-20T08:40:33.151902Z"
    }
   },
   "cell_type": "code",
   "source": [
    "# Убираем столбец \"Unnamed: 0\"\n",
    "df.drop('Unnamed: 0', inplace=True, axis=1)"
   ],
   "id": "2a32ac8269b4527a",
   "outputs": [],
   "execution_count": 4
  },
  {
   "metadata": {
    "ExecuteTime": {
     "end_time": "2024-06-20T08:40:33.172413Z",
     "start_time": "2024-06-20T08:40:33.162015Z"
    }
   },
   "cell_type": "code",
   "source": [
    "# работаем с колонками от 11 и дальше\n",
    "df.iloc[:, 11:]"
   ],
   "id": "ac133ff9135447ea",
   "outputs": [
    {
     "data": {
      "text/plain": [
       "              Ремонт Площадь комнат, м2      Балкон             Окна  \\\n",
       "0       Дизайнерский                NaN         NaN              NaN   \n",
       "1       Дизайнерский        25 25 20 25         NaN  На улицу и двор   \n",
       "2         Евроремонт                NaN         NaN  На улицу и двор   \n",
       "3         Евроремонт        14-42-20-19         NaN  На улицу и двор   \n",
       "4         Евроремонт              20 18         NaN  На улицу и двор   \n",
       "...              ...                ...         ...              ...   \n",
       "23363     Евроремонт                NaN  Балкон (1)              NaN   \n",
       "23364     Евроремонт                NaN  Лоджия (1)          Во двор   \n",
       "23365   Дизайнерский                NaN  Балкон (1)  На улицу и двор   \n",
       "23366     Евроремонт                NaN  Лоджия (1)          Во двор   \n",
       "23367  Косметический     26,2+15,5-22,0  Лоджия (1)          Во двор   \n",
       "\n",
       "                               Санузел           Можно с детьми/животными  \\\n",
       "0                                  NaN  Можно с детьми, Можно с животными   \n",
       "1      Совмещенный (2), Раздельный (1)                     Можно с детьми   \n",
       "2                      Совмещенный (3)                     Можно с детьми   \n",
       "3                      Совмещенный (3)                  Можно с животными   \n",
       "4                      Совмещенный (2)                                NaN   \n",
       "...                                ...                                ...   \n",
       "23363                  Совмещенный (1)                                NaN   \n",
       "23364                  Совмещенный (1)                                NaN   \n",
       "23365                  Совмещенный (1)                     Можно с детьми   \n",
       "23366  Совмещенный (1), Раздельный (1)                                NaN   \n",
       "23367                   Раздельный (1)  Можно с детьми, Можно с животными   \n",
       "\n",
       "                                           Дополнительно        Название ЖК  \\\n",
       "0      Мебель в комнатах, Мебель на кухне, Ванна, Душ...  Новый Арбат, 2010   \n",
       "1      Мебель в комнатах, Мебель на кухне, Ванна, Душ...        Новый Арбат   \n",
       "2      Мебель в комнатах, Мебель на кухне, Ванна, Душ...        Новый Арбат   \n",
       "3      Мебель в комнатах, Мебель на кухне, Ванна, Душ...                NaN   \n",
       "4      Мебель в комнатах, Мебель на кухне, Ванна, Душ...           The Book   \n",
       "...                                                  ...                ...   \n",
       "23363  Мебель в комнатах, Мебель на кухне, Ванна, Сти...      Мещерский лес   \n",
       "23364  Мебель в комнатах, Мебель на кухне, Ванна, Сти...               Лучи   \n",
       "23365  Мебель на кухне, Душевая кабина, Стиральная ма...                NaN   \n",
       "23366  Мебель в комнатах, Мебель на кухне, Ванна, Сти...                NaN   \n",
       "23367  Мебель в комнатах, Мебель на кухне, Ванна, Сти...                NaN   \n",
       "\n",
       "      Серия дома  Высота потолков, м                Лифт Мусоропровод  \\\n",
       "0            NaN                3.00  Пасс (4), Груз (1)           Да   \n",
       "1            NaN                3.50  Пасс (1), Груз (1)          Нет   \n",
       "2            NaN                3.20            Пасс (1)          NaN   \n",
       "3            NaN                3.20            Пасс (1)          NaN   \n",
       "4            NaN                3.90  Пасс (1), Груз (1)           Да   \n",
       "...          ...                 ...                 ...          ...   \n",
       "23363        NaN                 NaN  Пасс (1), Груз (1)          NaN   \n",
       "23364        NaN                 NaN  Пасс (1), Груз (1)          NaN   \n",
       "23365        NaN                 NaN                 NaN          NaN   \n",
       "23366        NaN                2.65            Пасс (3)           Да   \n",
       "23367        NaN                 NaN            Пасс (3)           Да   \n",
       "\n",
       "                          Ссылка на объявление  \n",
       "0      https://www.cian.ru/rent/flat/271271157  \n",
       "1      https://www.cian.ru/rent/flat/271634126  \n",
       "2      https://www.cian.ru/rent/flat/271173086  \n",
       "3      https://www.cian.ru/rent/flat/272197456  \n",
       "4      https://www.cian.ru/rent/flat/273614615  \n",
       "...                                        ...  \n",
       "23363  https://www.cian.ru/rent/flat/215565511  \n",
       "23364  https://www.cian.ru/rent/flat/274654844  \n",
       "23365  https://www.cian.ru/rent/flat/268679909  \n",
       "23366  https://www.cian.ru/rent/flat/274807525  \n",
       "23367  https://www.cian.ru/rent/flat/274672243  \n",
       "\n",
       "[23368 rows x 13 columns]"
      ],
      "text/html": [
       "<div>\n",
       "<style scoped>\n",
       "    .dataframe tbody tr th:only-of-type {\n",
       "        vertical-align: middle;\n",
       "    }\n",
       "\n",
       "    .dataframe tbody tr th {\n",
       "        vertical-align: top;\n",
       "    }\n",
       "\n",
       "    .dataframe thead th {\n",
       "        text-align: right;\n",
       "    }\n",
       "</style>\n",
       "<table border=\"1\" class=\"dataframe\">\n",
       "  <thead>\n",
       "    <tr style=\"text-align: right;\">\n",
       "      <th></th>\n",
       "      <th>Ремонт</th>\n",
       "      <th>Площадь комнат, м2</th>\n",
       "      <th>Балкон</th>\n",
       "      <th>Окна</th>\n",
       "      <th>Санузел</th>\n",
       "      <th>Можно с детьми/животными</th>\n",
       "      <th>Дополнительно</th>\n",
       "      <th>Название ЖК</th>\n",
       "      <th>Серия дома</th>\n",
       "      <th>Высота потолков, м</th>\n",
       "      <th>Лифт</th>\n",
       "      <th>Мусоропровод</th>\n",
       "      <th>Ссылка на объявление</th>\n",
       "    </tr>\n",
       "  </thead>\n",
       "  <tbody>\n",
       "    <tr>\n",
       "      <th>0</th>\n",
       "      <td>Дизайнерский</td>\n",
       "      <td>NaN</td>\n",
       "      <td>NaN</td>\n",
       "      <td>NaN</td>\n",
       "      <td>NaN</td>\n",
       "      <td>Можно с детьми, Можно с животными</td>\n",
       "      <td>Мебель в комнатах, Мебель на кухне, Ванна, Душ...</td>\n",
       "      <td>Новый Арбат, 2010</td>\n",
       "      <td>NaN</td>\n",
       "      <td>3.00</td>\n",
       "      <td>Пасс (4), Груз (1)</td>\n",
       "      <td>Да</td>\n",
       "      <td>https://www.cian.ru/rent/flat/271271157</td>\n",
       "    </tr>\n",
       "    <tr>\n",
       "      <th>1</th>\n",
       "      <td>Дизайнерский</td>\n",
       "      <td>25 25 20 25</td>\n",
       "      <td>NaN</td>\n",
       "      <td>На улицу и двор</td>\n",
       "      <td>Совмещенный (2), Раздельный (1)</td>\n",
       "      <td>Можно с детьми</td>\n",
       "      <td>Мебель в комнатах, Мебель на кухне, Ванна, Душ...</td>\n",
       "      <td>Новый Арбат</td>\n",
       "      <td>NaN</td>\n",
       "      <td>3.50</td>\n",
       "      <td>Пасс (1), Груз (1)</td>\n",
       "      <td>Нет</td>\n",
       "      <td>https://www.cian.ru/rent/flat/271634126</td>\n",
       "    </tr>\n",
       "    <tr>\n",
       "      <th>2</th>\n",
       "      <td>Евроремонт</td>\n",
       "      <td>NaN</td>\n",
       "      <td>NaN</td>\n",
       "      <td>На улицу и двор</td>\n",
       "      <td>Совмещенный (3)</td>\n",
       "      <td>Можно с детьми</td>\n",
       "      <td>Мебель в комнатах, Мебель на кухне, Ванна, Душ...</td>\n",
       "      <td>Новый Арбат</td>\n",
       "      <td>NaN</td>\n",
       "      <td>3.20</td>\n",
       "      <td>Пасс (1)</td>\n",
       "      <td>NaN</td>\n",
       "      <td>https://www.cian.ru/rent/flat/271173086</td>\n",
       "    </tr>\n",
       "    <tr>\n",
       "      <th>3</th>\n",
       "      <td>Евроремонт</td>\n",
       "      <td>14-42-20-19</td>\n",
       "      <td>NaN</td>\n",
       "      <td>На улицу и двор</td>\n",
       "      <td>Совмещенный (3)</td>\n",
       "      <td>Можно с животными</td>\n",
       "      <td>Мебель в комнатах, Мебель на кухне, Ванна, Душ...</td>\n",
       "      <td>NaN</td>\n",
       "      <td>NaN</td>\n",
       "      <td>3.20</td>\n",
       "      <td>Пасс (1)</td>\n",
       "      <td>NaN</td>\n",
       "      <td>https://www.cian.ru/rent/flat/272197456</td>\n",
       "    </tr>\n",
       "    <tr>\n",
       "      <th>4</th>\n",
       "      <td>Евроремонт</td>\n",
       "      <td>20 18</td>\n",
       "      <td>NaN</td>\n",
       "      <td>На улицу и двор</td>\n",
       "      <td>Совмещенный (2)</td>\n",
       "      <td>NaN</td>\n",
       "      <td>Мебель в комнатах, Мебель на кухне, Ванна, Душ...</td>\n",
       "      <td>The Book</td>\n",
       "      <td>NaN</td>\n",
       "      <td>3.90</td>\n",
       "      <td>Пасс (1), Груз (1)</td>\n",
       "      <td>Да</td>\n",
       "      <td>https://www.cian.ru/rent/flat/273614615</td>\n",
       "    </tr>\n",
       "    <tr>\n",
       "      <th>...</th>\n",
       "      <td>...</td>\n",
       "      <td>...</td>\n",
       "      <td>...</td>\n",
       "      <td>...</td>\n",
       "      <td>...</td>\n",
       "      <td>...</td>\n",
       "      <td>...</td>\n",
       "      <td>...</td>\n",
       "      <td>...</td>\n",
       "      <td>...</td>\n",
       "      <td>...</td>\n",
       "      <td>...</td>\n",
       "      <td>...</td>\n",
       "    </tr>\n",
       "    <tr>\n",
       "      <th>23363</th>\n",
       "      <td>Евроремонт</td>\n",
       "      <td>NaN</td>\n",
       "      <td>Балкон (1)</td>\n",
       "      <td>NaN</td>\n",
       "      <td>Совмещенный (1)</td>\n",
       "      <td>NaN</td>\n",
       "      <td>Мебель в комнатах, Мебель на кухне, Ванна, Сти...</td>\n",
       "      <td>Мещерский лес</td>\n",
       "      <td>NaN</td>\n",
       "      <td>NaN</td>\n",
       "      <td>Пасс (1), Груз (1)</td>\n",
       "      <td>NaN</td>\n",
       "      <td>https://www.cian.ru/rent/flat/215565511</td>\n",
       "    </tr>\n",
       "    <tr>\n",
       "      <th>23364</th>\n",
       "      <td>Евроремонт</td>\n",
       "      <td>NaN</td>\n",
       "      <td>Лоджия (1)</td>\n",
       "      <td>Во двор</td>\n",
       "      <td>Совмещенный (1)</td>\n",
       "      <td>NaN</td>\n",
       "      <td>Мебель в комнатах, Мебель на кухне, Ванна, Сти...</td>\n",
       "      <td>Лучи</td>\n",
       "      <td>NaN</td>\n",
       "      <td>NaN</td>\n",
       "      <td>Пасс (1), Груз (1)</td>\n",
       "      <td>NaN</td>\n",
       "      <td>https://www.cian.ru/rent/flat/274654844</td>\n",
       "    </tr>\n",
       "    <tr>\n",
       "      <th>23365</th>\n",
       "      <td>Дизайнерский</td>\n",
       "      <td>NaN</td>\n",
       "      <td>Балкон (1)</td>\n",
       "      <td>На улицу и двор</td>\n",
       "      <td>Совмещенный (1)</td>\n",
       "      <td>Можно с детьми</td>\n",
       "      <td>Мебель на кухне, Душевая кабина, Стиральная ма...</td>\n",
       "      <td>NaN</td>\n",
       "      <td>NaN</td>\n",
       "      <td>NaN</td>\n",
       "      <td>NaN</td>\n",
       "      <td>NaN</td>\n",
       "      <td>https://www.cian.ru/rent/flat/268679909</td>\n",
       "    </tr>\n",
       "    <tr>\n",
       "      <th>23366</th>\n",
       "      <td>Евроремонт</td>\n",
       "      <td>NaN</td>\n",
       "      <td>Лоджия (1)</td>\n",
       "      <td>Во двор</td>\n",
       "      <td>Совмещенный (1), Раздельный (1)</td>\n",
       "      <td>NaN</td>\n",
       "      <td>Мебель в комнатах, Мебель на кухне, Ванна, Сти...</td>\n",
       "      <td>NaN</td>\n",
       "      <td>NaN</td>\n",
       "      <td>2.65</td>\n",
       "      <td>Пасс (3)</td>\n",
       "      <td>Да</td>\n",
       "      <td>https://www.cian.ru/rent/flat/274807525</td>\n",
       "    </tr>\n",
       "    <tr>\n",
       "      <th>23367</th>\n",
       "      <td>Косметический</td>\n",
       "      <td>26,2+15,5-22,0</td>\n",
       "      <td>Лоджия (1)</td>\n",
       "      <td>Во двор</td>\n",
       "      <td>Раздельный (1)</td>\n",
       "      <td>Можно с детьми, Можно с животными</td>\n",
       "      <td>Мебель в комнатах, Мебель на кухне, Ванна, Сти...</td>\n",
       "      <td>NaN</td>\n",
       "      <td>NaN</td>\n",
       "      <td>NaN</td>\n",
       "      <td>Пасс (3)</td>\n",
       "      <td>Да</td>\n",
       "      <td>https://www.cian.ru/rent/flat/274672243</td>\n",
       "    </tr>\n",
       "  </tbody>\n",
       "</table>\n",
       "<p>23368 rows × 13 columns</p>\n",
       "</div>"
      ]
     },
     "execution_count": 5,
     "metadata": {},
     "output_type": "execute_result"
    }
   ],
   "execution_count": 5
  },
  {
   "metadata": {
    "ExecuteTime": {
     "end_time": "2024-06-20T08:40:33.176016Z",
     "start_time": "2024-06-20T08:40:33.173089Z"
    }
   },
   "cell_type": "code",
   "source": [
    "# признак \"Ремонт\"\n",
    "df['Ремонт'].unique()"
   ],
   "id": "d35f443149cb2419",
   "outputs": [
    {
     "data": {
      "text/plain": [
       "array(['Дизайнерский', 'Евроремонт', 'Косметический', nan, 'Без ремонта'],\n",
       "      dtype=object)"
      ]
     },
     "execution_count": 6,
     "metadata": {},
     "output_type": "execute_result"
    }
   ],
   "execution_count": 6
  },
  {
   "metadata": {
    "ExecuteTime": {
     "end_time": "2024-06-20T08:40:33.376921Z",
     "start_time": "2024-06-20T08:40:33.178998Z"
    }
   },
   "cell_type": "code",
   "source": "rent_funcs.plot_bar_chart(df, 'Ремонт')",
   "id": "750665a838d4a78b",
   "outputs": [
    {
     "data": {
      "text/plain": [
       "<Figure size 1000x600 with 1 Axes>"
      ],
      "image/png": "[encoded data removed]"
     },
     "metadata": {},
     "output_type": "display_data"
    }
   ],
   "execution_count": 8
  },
  {
   "metadata": {},
   "cell_type": "markdown",
   "source": "Признак \"Ремонт\" - категориальный номинальный. Не считая пропуски в наших данных есть 4 вида ремонта - Дизайнерский, Евроремонт, Косметический и без ремонта",
   "id": "27552b4ddf929289"
  },
  {
   "metadata": {
    "ExecuteTime": {
     "end_time": "2024-06-20T08:46:18.627562Z",
     "start_time": "2024-06-20T08:46:18.619278Z"
    }
   },
   "cell_type": "code",
   "source": [
    "# признак Площадь комнат\n",
    "df.loc[0:20,'Площадь комнат, м2']"
   ],
   "id": "a61c514d139971fe",
   "outputs": [
    {
     "data": {
      "text/plain": [
       "0                NaN\n",
       "1        25 25 20 25\n",
       "2                NaN\n",
       "3        14-42-20-19\n",
       "4              20 18\n",
       "5                NaN\n",
       "6     43-25-25-25-22\n",
       "7           26 22 15\n",
       "8           45 25 25\n",
       "9        16 14 16 20\n",
       "10       16-40-20-18\n",
       "11               NaN\n",
       "12                80\n",
       "13               180\n",
       "14               NaN\n",
       "15               NaN\n",
       "16               NaN\n",
       "17               NaN\n",
       "18               NaN\n",
       "19    24-22-24-28-64\n",
       "20             32-18\n",
       "Name: Площадь комнат, м2, dtype: object"
      ]
     },
     "execution_count": 20,
     "metadata": {},
     "output_type": "execute_result"
    }
   ],
   "execution_count": 20
  },
  {
   "metadata": {},
   "cell_type": "markdown",
   "source": "Признак \"Площадь комнат\" - количественный дискретный. В наших данных имеет все возможные способы записи (через -, +, / и пробел)",
   "id": "640c5c3907703311"
  },
  {
   "metadata": {
    "ExecuteTime": {
     "end_time": "2024-06-20T08:48:30.063531Z",
     "start_time": "2024-06-20T08:48:30.056794Z"
    }
   },
   "cell_type": "code",
   "source": [
    "# признак Балкон\n",
    "df['Балкон'].unique()"
   ],
   "id": "9c3b4faf98e8a89a",
   "outputs": [
    {
     "data": {
      "text/plain": [
       "array([nan, 'Балкон (1)', 'Балкон (3)', 'Лоджия (1)',\n",
       "       'Балкон (2), Лоджия (3)', 'Балкон (1), Лоджия (1)', 'Балкон (2)',\n",
       "       'Лоджия (2)', 'Балкон (3), Лоджия (3)', 'Балкон (3), Лоджия (1)',\n",
       "       'Лоджия (3)', 'Балкон (1), Лоджия (2)', 'Балкон (2), Лоджия (1)',\n",
       "       'Балкон (2), Лоджия (2)', 'Балкон (1), Лоджия (3)', 'Балкон (4)',\n",
       "       'Лоджия (4)', 'Балкон (4), Лоджия (4)', 'Балкон (1), Лоджия (4)'],\n",
       "      dtype=object)"
      ]
     },
     "execution_count": 21,
     "metadata": {},
     "output_type": "execute_result"
    }
   ],
   "execution_count": 21
  }
 ],
 "metadata": {
  "kernelspec": {
   "display_name": "Python 3",
   "language": "python",
   "name": "python3"
  },
  "language_info": {
   "codemirror_mode": {
    "name": "ipython",
    "version": 2
   },
   "file_extension": ".py",
   "mimetype": "text/x-python",
   "name": "python",
   "nbconvert_exporter": "python",
   "pygments_lexer": "ipython2",
   "version": "2.7.6"
  }
 },
 "nbformat": 4,
 "nbformat_minor": 5
}
