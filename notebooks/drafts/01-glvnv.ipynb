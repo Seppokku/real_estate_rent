{
 "cells": [
  {
   "cell_type": "markdown",
   "metadata": {},
   "source": [
    "# Ноутбук с разведочным анализом данных по квартирам, сдающимся в аренду"
   ]
  },
  {
   "cell_type": "markdown",
   "metadata": {},
   "source": [
    "### Установим и импортируем необходимые библиотеки"
   ]
  },
  {
   "cell_type": "code",
   "execution_count": null,
   "metadata": {},
   "source": [
    "!pip install numpy matplotlib seaborn -q"
   ],
   "outputs": []
  },
  {
   "cell_type": "code",
   "execution_count": 30,
   "metadata": {},
   "source": [
    "import pandas as pd\n",
    "import numpy as np\n",
    "import matplotlib.pyplot as plt\n",
    "import seaborn as sns\n",
    "plt.style.use('https://github.com/dhaitz/matplotlib-stylesheets/raw/master/pitayasmoothie-dark.mplstyle')"
   ],
   "outputs": []
  },
  {
   "cell_type": "code",
   "execution_count": 2,
   "metadata": {},
   "source": [
    "pd.set_option('display.max_columns', 25)\n",
    "pd.set_option('display.max_rows', 30)"
   ],
   "outputs": []
  },
  {
   "cell_type": "markdown",
   "metadata": {},
   "source": [
    "#### Загрузим данные и посмотрим на них"
   ]
  },
  {
   "cell_type": "code",
   "execution_count": 46,
   "metadata": {},
   "source": [
    "data = pd.read_csv('/home/seppoku/ds_bootcamp/real_estate_rent/data/raw/_data.csv')\n",
    "data.head()"
   ],
   "outputs": []
  },
  {
   "cell_type": "markdown",
   "metadata": {},
   "source": [
    "#### Удалим столбец 'Unnamed: 0'"
   ]
  },
  {
   "cell_type": "code",
   "execution_count": 47,
   "metadata": {},
   "source": [
    "data.drop(['Unnamed: 0'], axis=1, inplace=True)"
   ],
   "outputs": []
  },
  {
   "cell_type": "markdown",
   "metadata": {},
   "source": [
    "#### Возьмем колонки до столбца 'ремонт' (так поделились) и назовем колонки по английски"
   ]
  },
  {
   "cell_type": "code",
   "execution_count": 48,
   "metadata": {},
   "source": "df_1 = data[['ID  объявления', 'Количество комнат', 'Тип', 'Метро', 'Адрес', 'Площадь, м2', 'Дом', 'Парковка', 'Цена', 'Телефоны', 'Описание']]",
   "outputs": []
  },
  {
   "cell_type": "code",
   "execution_count": 49,
   "metadata": {},
   "source": "df_1.columns = ['announcement_id', 'rooms', 'type', 'subway', 'adress', 'square', 'building', 'parking', 'price', 'contact_phone', 'description']",
   "outputs": []
  },
  {
   "cell_type": "markdown",
   "metadata": {},
   "source": [
    "### Посмотрим признак rooms"
   ]
  },
  {
   "cell_type": "code",
   "execution_count": 52,
   "metadata": {},
   "source": [
    "df_1['rooms'].value_counts()\n",
    "# оставим только количество комнат, если там пропуск, заменим на 'свободная'\n",
    "df_1['rooms'] = df_1['rooms'].fillna('Свободная')\n",
    "df_1['rooms'] = [i.split(', ')[0] for i in df_1['rooms']]\n"
   ],
   "outputs": []
  },
  {
   "cell_type": "code",
   "execution_count": 53,
   "metadata": {},
   "source": [
    "def plot_bar_chart(df, column_name):\n",
    "    fig, ax = plt.subplots(figsize=(10, 6))\n",
    "\n",
    "    sns.countplot(data=df, x=column_name, ax=ax)\n",
    "\n",
    "    ax.set_ylabel('Количество')\n",
    "    ax.set_title(f'Распределение значений для {column_name}')\n",
    "\n",
    "\n",
    "plot_bar_chart(df_1, 'rooms')"
   ],
   "outputs": []
  },
  {
   "cell_type": "markdown",
   "metadata": {},
   "source": [
    "##### Видим, что чаще всего сдаются в аренду два пласта - **однушка** и **двушка**"
   ]
  },
  {
   "cell_type": "markdown",
   "metadata": {},
   "source": [
    "### Посмотрим признак 'parking'"
   ]
  },
  {
   "cell_type": "code",
   "execution_count": 54,
   "metadata": {},
   "source": [
    "# заменим пропуски на 'во дворе'\n",
    "df_1['parking'] = df_1['parking'].fillna('во дворе')\n",
    "plot_bar_chart(df_1, 'parking')"
   ],
   "outputs": []
  },
  {
   "cell_type": "markdown",
   "metadata": {},
   "source": [
    "##### Тут видим, что дома обычно не имеют отдельно построенных парковок, они в основном назменые - либо для **жильцов** либо для **всех кто захочет**"
   ]
  },
  {
   "cell_type": "markdown",
   "metadata": {},
   "source": [
    "### Рассмотрим признак square"
   ]
  },
  {
   "cell_type": "code",
   "execution_count": 62,
   "metadata": {},
   "source": [
    "#сделаем новый столбец all_square, который будет в себя включать общую площадь квартиры\n",
    "#df['all_square'] = [i.split('/')[0] for i in df['square']]\n",
    "#df['all_square'] = df['all_square'].astype(float)\n",
    "sns.histplot(df_1['all_square'], kde=True)"
   ],
   "outputs": []
  },
  {
   "cell_type": "markdown",
   "metadata": {},
   "source": [
    "##### Мы можем видеть, что большинство квартир находятся в диапазоне от 40 до 70 метров квадратных\n"
   ]
  },
  {
   "cell_type": "code",
   "execution_count": 63,
   "metadata": {},
   "source": "sns.boxplot(df_1['all_square'])",
   "outputs": []
  },
  {
   "cell_type": "markdown",
   "metadata": {},
   "source": [
    "##### Медианное значение общей площади находится в районе 50, так же есть много квартир 150+ метров, это либо для тусовок посуточно, либо для аренды залов на мероприятия(конференции, свадьбы и тд) надо разбираться"
   ]
  },
  {
   "cell_type": "markdown",
   "metadata": {},
   "source": [
    "### Посмотрим признак 'type'"
   ]
  },
  {
   "cell_type": "code",
   "execution_count": 64,
   "metadata": {},
   "source": "plot_bar_chart(df_1, 'type')",
   "outputs": []
  },
  {
   "cell_type": "markdown",
   "metadata": {},
   "source": [
    "##### Здесь всего одно значение - **квартира**"
   ]
  },
  {
   "cell_type": "markdown",
   "metadata": {},
   "source": [
    "### Посмотрим признак 'building'"
   ]
  },
  {
   "cell_type": "code",
   "execution_count": 79,
   "metadata": {},
   "source": [
    "# Создадим столбец 'floor', где будет этаж\n",
    "df_1['floor'] = [int(i.split('/')[0]) for i in df_1['building']]\n",
    "sns.histplot(df_1['floor'])"
   ],
   "outputs": []
  },
  {
   "cell_type": "markdown",
   "metadata": {},
   "source": [
    "##### Большинство квартир находится на высоте от 1 до 15 этажа"
   ]
  },
  {
   "cell_type": "code",
   "execution_count": 80,
   "metadata": {},
   "source": [
    "# Создадим столбец 'building_floor', где будет этажность самого здания\n",
    "df_1['buildind_floor'] = [int(i.split('/')[1].split(',')[0]) for i in df_1['building']]\n",
    "sns.histplot(df_1['buildind_floor'])"
   ],
   "outputs": []
  },
  {
   "cell_type": "markdown",
   "metadata": {},
   "source": [
    "##### Большинство домов высотой - 9, 5, 12, 17, 16 скорее всего это так называемые **панельки** и **сталинки**"
   ]
  },
  {
   "cell_type": "code",
   "execution_count": 89,
   "metadata": {},
   "source": [
    "# Создадим столбец 'building_type', где будет тип постройки, если там пропуск - пусть там будет \"Загадка\"\n",
    "df_1['building_type'] = [i.split(', ')[-1] if len(i.split(', ')[-1]) > 6 else 'Загадка' for i in df_1['building']]\n",
    "\n",
    "\n",
    "fig, ax = plt.subplots(figsize=(10, 6))\n",
    "sns.histplot(df_1['building_type'], ax=ax);\n",
    "ax.set_xticklabels(df_1['building_type'].unique(), rotation=90);\n",
    "\n"
   ],
   "outputs": []
  },
  {
   "cell_type": "markdown",
   "metadata": {},
   "source": [
    "##### Больше всего **панелек**, **монолитных** и **кирпичных строений**"
   ]
  },
  {
   "cell_type": "markdown",
   "metadata": {},
   "source": [
    "## Посмотрим признак цена"
   ]
  },
  {
   "cell_type": "code",
   "execution_count": 91,
   "metadata": {},
   "source": [
    "# создадим колонку 'price_per_month' в которой будет отображена стоимость месячной аренды\n",
    "df_1['price_per_month'] = [int(i.split('.')[0]) for i in df_1['price']]\n",
    "sns.histplot(df_1['price_per_month']);"
   ],
   "outputs": []
  },
  {
   "cell_type": "code",
   "execution_count": 93,
   "metadata": {},
   "source": "df_1.describe()",
   "outputs": []
  },
  {
   "cell_type": "markdown",
   "metadata": {},
   "source": [
    "#### Видим, что минимальная цена аренды 5000 - это либо комната, либо цена в валюте, надо разбираться"
   ]
  },
  {
   "cell_type": "code",
   "execution_count": 94,
   "metadata": {},
   "source": "sns.scatterplot(x = df_1['all_square'], y=df_1['price_per_month'])\n",
   "outputs": []
  },
  {
   "cell_type": "code",
   "execution_count": 96,
   "metadata": {},
   "source": [
    "fig, ax = plt.subplots(figsize=(10, 6))\n",
    "sns.scatterplot(x = df_1['building_type'], y=df_1['price_per_month'], ax=ax)\n",
    "ax.set_xticklabels(df_1['building_type'].unique(), rotation=90);"
   ],
   "outputs": []
  },
  {
   "cell_type": "code",
   "execution_count": 103,
   "metadata": {},
   "source": [
    "df_corr = df_1[['all_square', 'floor', 'buildind_floor', 'price_per_month']].corr()\n",
    "\n",
    "sns.heatmap(df_corr, cmap=\"crest\", annot=True)"
   ],
   "outputs": []
  },
  {
   "cell_type": "markdown",
   "metadata": {},
   "source": [
    "##### Видим достаточно сильную корреляцию между ценой и общей площадью"
   ]
  },
  {
   "cell_type": "markdown",
   "metadata": {},
   "source": [
    "# Небольшой общий вывод:  На первый взгялд данные распределены более менее нормально, с левыми пиками. Выбросы есть, с ними надо будет работать"
   ]
  },
  {
   "cell_type": "markdown",
   "metadata": {},
   "source": []
  }
 ],
 "metadata": {
  "kernelspec": {
   "display_name": "Python 3",
   "language": "python",
   "name": "python3"
  },
  "language_info": {
   "codemirror_mode": {
    "name": "ipython",
    "version": 3
   },
   "file_extension": ".py",
   "mimetype": "text/x-python",
   "name": "python",
   "nbconvert_exporter": "python",
   "pygments_lexer": "ipython3",
   "version": "3.10.14"
  }
 },
 "nbformat": 4,
 "nbformat_minor": 2
}
