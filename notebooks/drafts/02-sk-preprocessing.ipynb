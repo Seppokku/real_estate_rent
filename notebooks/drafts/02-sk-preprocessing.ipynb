{
 "cells": [
  {
   "cell_type": "code",
   "id": "initial_id",
   "metadata": {
    "collapsed": true,
    "ExecuteTime": {
     "end_time": "2024-06-20T15:41:10.698376Z",
     "start_time": "2024-06-20T15:41:08.795180Z"
    }
   },
   "source": [
    "import pandas as pd\n",
    "import numpy as np\n",
    "pd.options.display.float_format = '{:,.2f}'.format\n",
    "\n",
    "import matplotlib as mpl\n",
    "import matplotlib.pyplot as plt\n",
    "import seaborn as sns\n",
    "plt.style.use('https://github.com/dhaitz/matplotlib-stylesheets/raw/master/pitayasmoothie-dark.mplstyle')"
   ],
   "outputs": [],
   "execution_count": 149
  },
  {
   "metadata": {
    "ExecuteTime": {
     "end_time": "2024-06-20T15:41:11.112605Z",
     "start_time": "2024-06-20T15:41:10.700709Z"
    }
   },
   "cell_type": "code",
   "source": [
    "# загружаем датафрейм\n",
    "df = pd.read_csv('../../data/raw/_data.csv')"
   ],
   "id": "2f4e6ca825c73bee",
   "outputs": [],
   "execution_count": 150
  },
  {
   "metadata": {
    "ExecuteTime": {
     "end_time": "2024-06-20T15:41:11.127094Z",
     "start_time": "2024-06-20T15:41:11.113297Z"
    }
   },
   "cell_type": "code",
   "source": [
    "# общие пропуски\n",
    "df.isnull().sum()"
   ],
   "id": "f03ee67d906a30",
   "outputs": [
    {
     "data": {
      "text/plain": [
       "Unnamed: 0                      0\n",
       "ID  объявления                  0\n",
       "Количество комнат            1041\n",
       "Тип                             0\n",
       "Метро                        1315\n",
       "Адрес                           0\n",
       "Площадь, м2                     0\n",
       "Дом                             0\n",
       "Парковка                    13417\n",
       "Цена                            0\n",
       "Телефоны                        0\n",
       "Описание                        0\n",
       "Ремонт                       2755\n",
       "Площадь комнат, м2           8910\n",
       "Балкон                       7978\n",
       "Окна                         6613\n",
       "Санузел                      2672\n",
       "Можно с детьми/животными     6096\n",
       "Дополнительно                 357\n",
       "Название ЖК                 17520\n",
       "Серия дома                  21205\n",
       "Высота потолков, м          12162\n",
       "Лифт                         5500\n",
       "Мусоропровод                10522\n",
       "Ссылка на объявление            0\n",
       "dtype: int64"
      ]
     },
     "execution_count": 151,
     "metadata": {},
     "output_type": "execute_result"
    }
   ],
   "execution_count": 151
  },
  {
   "metadata": {
    "ExecuteTime": {
     "end_time": "2024-06-20T15:41:11.129885Z",
     "start_time": "2024-06-20T15:41:11.128217Z"
    }
   },
   "cell_type": "code",
   "source": [
    "# для начала уберем все объявления не из москвы\n",
    "def is_moscow(text):\n",
    "    return text.split(',')[0] == 'Москва'"
   ],
   "id": "e0914ab8bad9071d",
   "outputs": [],
   "execution_count": 152
  },
  {
   "metadata": {
    "ExecuteTime": {
     "end_time": "2024-06-20T15:41:11.143117Z",
     "start_time": "2024-06-20T15:41:11.130391Z"
    }
   },
   "cell_type": "code",
   "source": "df = df[df['Адрес'].apply(is_moscow)]",
   "id": "a1b6ebd607227567",
   "outputs": [],
   "execution_count": 153
  },
  {
   "metadata": {
    "ExecuteTime": {
     "end_time": "2024-06-20T15:41:11.146359Z",
     "start_time": "2024-06-20T15:41:11.143727Z"
    }
   },
   "cell_type": "code",
   "source": [
    "# начинаем заполнять пропуски с \"Ремонта\"\n",
    "df['Ремонт'].isnull().sum()"
   ],
   "id": "3567bb314c65e65f",
   "outputs": [
    {
     "data": {
      "text/plain": [
       "2463"
      ]
     },
     "execution_count": 154,
     "metadata": {},
     "output_type": "execute_result"
    }
   ],
   "execution_count": 154
  },
  {
   "metadata": {
    "ExecuteTime": {
     "end_time": "2024-06-20T15:41:11.148517Z",
     "start_time": "2024-06-20T15:41:11.146868Z"
    }
   },
   "cell_type": "code",
   "source": [
    "# после долгих размышлений было принято решение заполнять по принципу моды в\n",
    "# категориях квартир со схожей стоимостью. Может это того не стоит, но попробовать захотелось\n",
    "# для этого сначала нужно достать цену аренды, тк это важный параметр\n",
    "\n",
    "# решил пойти таким путём (в надежде на то, что все цены вбиты в одном формате)\n",
    "def extract_price(text):\n",
    "    dot_index = text.find('.')\n",
    "    if dot_index != -1:\n",
    "        return int(text[:dot_index])\n",
    "    return None"
   ],
   "id": "3b7b61107ce7442",
   "outputs": [],
   "execution_count": 155
  },
  {
   "metadata": {
    "ExecuteTime": {
     "end_time": "2024-06-20T15:41:11.159056Z",
     "start_time": "2024-06-20T15:41:11.149163Z"
    }
   },
   "cell_type": "code",
   "source": [
    "df['Цена_2'] = df['Цена'].apply(extract_price)\n",
    "df['Цена_2'].describe()\n",
    "\n",
    "# вышло вроде неплохо (во всяком случае относительно похоже на правду)"
   ],
   "id": "97ebeba9d2952add",
   "outputs": [
    {
     "data": {
      "text/plain": [
       "count      19,737.00\n",
       "mean       86,563.85\n",
       "std       128,148.32\n",
       "min         5,000.00\n",
       "25%        39,990.00\n",
       "50%        50,000.00\n",
       "75%        75,000.00\n",
       "max     3,000,000.00\n",
       "Name: Цена_2, dtype: float64"
      ]
     },
     "execution_count": 156,
     "metadata": {},
     "output_type": "execute_result"
    }
   ],
   "execution_count": 156
  },
  {
   "metadata": {
    "ExecuteTime": {
     "end_time": "2024-06-20T15:41:11.162872Z",
     "start_time": "2024-06-20T15:41:11.159637Z"
    }
   },
   "cell_type": "code",
   "source": [
    "# создаём 10 различных ценовых групп по процентилям\n",
    "df['Ценовая_группа'] = pd.qcut(df['Цена_2'], 10, labels=False)"
   ],
   "id": "2c6306ae609a945e",
   "outputs": [],
   "execution_count": 157
  },
  {
   "metadata": {
    "ExecuteTime": {
     "end_time": "2024-06-20T15:41:11.171317Z",
     "start_time": "2024-06-20T15:41:11.164687Z"
    }
   },
   "cell_type": "code",
   "source": [
    "# заполняем пропуск модой по категории\n",
    "df['Ремонт'] = df.groupby('Ценовая_группа')['Ремонт'].transform(lambda x: x.fillna(x.mode()[0]))"
   ],
   "id": "6f2e84eba17b53eb",
   "outputs": [],
   "execution_count": 158
  },
  {
   "metadata": {
    "ExecuteTime": {
     "end_time": "2024-06-20T15:41:11.173515Z",
     "start_time": "2024-06-20T15:41:11.172057Z"
    }
   },
   "cell_type": "code",
   "source": [
    "# двигаемся к площади комнат, я заметил, что в фичи \"Площадь\" иногда указано 2 или 3 числа\n",
    "# посмотрев циан я узнал, что это общая площадь / жилая (площадь комнат) / площадь кухни\n",
    "# соответственно идея смотреть площадь и если чисел несколько - тащить второе"
   ],
   "id": "68fe7c99829ff880",
   "outputs": [],
   "execution_count": 159
  },
  {
   "metadata": {
    "ExecuteTime": {
     "end_time": "2024-06-20T15:41:11.177265Z",
     "start_time": "2024-06-20T15:41:11.174159Z"
    }
   },
   "cell_type": "code",
   "source": "df['Площадь комнат, м2'].isnull().sum()",
   "id": "de6580a1b3873da6",
   "outputs": [
    {
     "data": {
      "text/plain": [
       "7228"
      ]
     },
     "execution_count": 160,
     "metadata": {},
     "output_type": "execute_result"
    }
   ],
   "execution_count": 160
  },
  {
   "metadata": {
    "ExecuteTime": {
     "end_time": "2024-06-20T15:41:11.179440Z",
     "start_time": "2024-06-20T15:41:11.177749Z"
    }
   },
   "cell_type": "code",
   "source": [
    "# функция вытаскивания жилой площади\n",
    "def extract_room_square(text: str):\n",
    "    lst = text.split('/')\n",
    "    if len(lst) > 2:\n",
    "        return float(lst[1])"
   ],
   "id": "fedfcb7e7007c344",
   "outputs": [],
   "execution_count": 161
  },
  {
   "metadata": {
    "ExecuteTime": {
     "end_time": "2024-06-20T15:41:11.187551Z",
     "start_time": "2024-06-20T15:41:11.179925Z"
    }
   },
   "cell_type": "code",
   "source": [
    "# сделал такую версию, чтобы пандас не ругался\n",
    "df.fillna({'Площадь комнат, м2': df['Площадь, м2'].apply(extract_room_square)}, inplace=True)"
   ],
   "id": "24c924084e0fa2f5",
   "outputs": [],
   "execution_count": 162
  },
  {
   "metadata": {
    "ExecuteTime": {
     "end_time": "2024-06-20T15:41:11.190658Z",
     "start_time": "2024-06-20T15:41:11.188218Z"
    }
   },
   "cell_type": "code",
   "source": [
    "# прокатило для половины вариантов!\n",
    "df['Площадь комнат, м2'].isnull().sum()"
   ],
   "id": "d6a5570b314d9635",
   "outputs": [
    {
     "data": {
      "text/plain": [
       "3692"
      ]
     },
     "execution_count": 163,
     "metadata": {},
     "output_type": "execute_result"
    }
   ],
   "execution_count": 163
  },
  {
   "metadata": {
    "ExecuteTime": {
     "end_time": "2024-06-20T15:41:11.199526Z",
     "start_time": "2024-06-20T15:41:11.191453Z"
    }
   },
   "cell_type": "code",
   "source": [
    "# остальные заметим путём умножения площади на коэффициент площади жилья\n",
    "# его можно было бы получить из нашего датасета, но данные пока не очищены\n",
    "# поэтому я нагуглю - получил 0.7 что думаю недалеко от правды\n",
    "\n",
    "SQUARE_COEF = 0.7\n",
    "\n",
    "def extract_total_square(text: str):\n",
    "    lst = text.split('/')\n",
    "    return float(lst[0])\n",
    "\n",
    "df.fillna({'Площадь комнат, м2': df['Площадь, м2'].apply(extract_total_square) * SQUARE_COEF}, inplace=True)"
   ],
   "id": "5fa3bcc35d270863",
   "outputs": [],
   "execution_count": 164
  },
  {
   "metadata": {
    "ExecuteTime": {
     "end_time": "2024-06-20T15:41:11.202812Z",
     "start_time": "2024-06-20T15:41:11.200158Z"
    }
   },
   "cell_type": "code",
   "source": [
    "# успех\n",
    "df['Площадь комнат, м2'].isnull().sum()"
   ],
   "id": "3c353c8bf3296216",
   "outputs": [
    {
     "data": {
      "text/plain": [
       "0"
      ]
     },
     "execution_count": 165,
     "metadata": {},
     "output_type": "execute_result"
    }
   ],
   "execution_count": 165
  },
  {
   "metadata": {
    "ExecuteTime": {
     "end_time": "2024-06-20T15:41:11.205970Z",
     "start_time": "2024-06-20T15:41:11.203541Z"
    }
   },
   "cell_type": "code",
   "source": [
    "# настало время окон\n",
    "df['Окна'].isnull().sum()"
   ],
   "id": "70c155a5969128d",
   "outputs": [
    {
     "data": {
      "text/plain": [
       "5150"
      ]
     },
     "execution_count": 166,
     "metadata": {},
     "output_type": "execute_result"
    }
   ],
   "execution_count": 166
  },
  {
   "metadata": {
    "ExecuteTime": {
     "end_time": "2024-06-20T15:41:11.207930Z",
     "start_time": "2024-06-20T15:41:11.206497Z"
    }
   },
   "cell_type": "code",
   "source": [
    "# душа требует какой-нибудь сложной модели, но я так пока не умею\n",
    "# и ничего адекватного в голову не приходит, поэтому я опять заполню модой на основе группировке по ценам\n",
    "# хоть это и не звучит как самый логичный метод"
   ],
   "id": "b3dfa4fb7daed1d0",
   "outputs": [],
   "execution_count": 167
  },
  {
   "metadata": {
    "ExecuteTime": {
     "end_time": "2024-06-20T15:41:11.214516Z",
     "start_time": "2024-06-20T15:41:11.208665Z"
    }
   },
   "cell_type": "code",
   "source": "df['Окна'] = df.groupby('Ценовая_группа')['Окна'].transform(lambda x: x.fillna(x.mode()[0]))",
   "id": "10e8554a9990aa9f",
   "outputs": [],
   "execution_count": 168
  },
  {
   "metadata": {
    "ExecuteTime": {
     "end_time": "2024-06-20T15:41:11.217688Z",
     "start_time": "2024-06-20T15:41:11.215061Z"
    }
   },
   "cell_type": "code",
   "source": [
    "# с балконами я считаю метод простой. не указал, что он есть, значит его нет, нищеброд!\n",
    "df.fillna({'Балкон': 'Нет'}, inplace=True)"
   ],
   "id": "3ee0c62ee096413e",
   "outputs": [],
   "execution_count": 169
  },
  {
   "metadata": {
    "ExecuteTime": {
     "end_time": "2024-06-20T15:41:11.230531Z",
     "start_time": "2024-06-20T15:41:11.218287Z"
    }
   },
   "cell_type": "code",
   "source": [
    "# с санузлом мы пойдём похожим путём, только сделаем группы по площади\n",
    "df['Площадь, м2_new'] = df['Площадь, м2'].apply(extract_total_square)\n",
    "df['Размерная_группа'] = pd.qcut(df['Площадь, м2_new'], 10, labels=False)\n",
    "df['Санузел'] = df.groupby('Размерная_группа')['Санузел'].transform(lambda x: x.fillna(x.mode()[0]))"
   ],
   "id": "bc2a8cdee7326976",
   "outputs": [],
   "execution_count": 170
  },
  {
   "metadata": {
    "ExecuteTime": {
     "end_time": "2024-06-20T15:41:11.234475Z",
     "start_time": "2024-06-20T15:41:11.231255Z"
    }
   },
   "cell_type": "code",
   "source": [
    "# пропуск с Можно с детьми/животными я решил сделать отдельной категориальной переменной \"Ни с кем нельзя!\"\n",
    "# тк такого варианта не было в оригинальных штуках, а точно есть люди, которые никого не одобряют\n",
    "df.fillna({'Можно с детьми/животными': 'Ни с кем нельзя!'}, inplace=True)"
   ],
   "id": "7a4c8cd7fd65729",
   "outputs": [],
   "execution_count": 171
  },
  {
   "metadata": {
    "ExecuteTime": {
     "end_time": "2024-06-20T15:41:11.236406Z",
     "start_time": "2024-06-20T15:41:11.235082Z"
    }
   },
   "cell_type": "code",
   "source": [
    "# касательно \"Дополнительно\". Думаю врядли есть какой-то способ узнать, есть ли там холодильник, \n",
    "# кроме как звонки или просмотр фото, поэтому пропуски там оставлю пропусками\n",
    "# в будущем это превратится в 0 во всех 11 категориях"
   ],
   "id": "db5110711e5732e8",
   "outputs": [],
   "execution_count": 172
  },
  {
   "metadata": {
    "ExecuteTime": {
     "end_time": "2024-06-20T15:41:11.241568Z",
     "start_time": "2024-06-20T15:41:11.236949Z"
    }
   },
   "cell_type": "code",
   "source": [
    "# высоту потолков заполним медианным значением для ценовой категории\n",
    "df['Высота потолков, м'] = df.groupby('Ценовая_группа')['Высота потолков, м'].transform(lambda x: x.fillna(x.median()))"
   ],
   "id": "6546af8ca89ef0c1",
   "outputs": [],
   "execution_count": 173
  },
  {
   "metadata": {
    "ExecuteTime": {
     "end_time": "2024-06-20T15:41:11.243793Z",
     "start_time": "2024-06-20T15:41:11.242215Z"
    }
   },
   "cell_type": "code",
   "source": [
    "# очистим название жк от года\n",
    "def zk_separator(text):\n",
    "    if isinstance(text, str):\n",
    "        return text.split(',')[0]"
   ],
   "id": "a736e5c7509dc9e0",
   "outputs": [],
   "execution_count": 174
  },
  {
   "metadata": {
    "ExecuteTime": {
     "end_time": "2024-06-20T15:41:11.248382Z",
     "start_time": "2024-06-20T15:41:11.244439Z"
    }
   },
   "cell_type": "code",
   "source": "df['ЖК'] =  df['Название ЖК'].apply(zk_separator)",
   "id": "5db27936179088fe",
   "outputs": [],
   "execution_count": 175
  },
  {
   "metadata": {
    "ExecuteTime": {
     "end_time": "2024-06-20T15:41:11.253906Z",
     "start_time": "2024-06-20T15:41:11.251538Z"
    }
   },
   "cell_type": "code",
   "source": [
    "# наличие лифта сначала попробуем притянуть из данных по тому же ЖК\n",
    "df['Лифт'].isnull().sum()"
   ],
   "id": "b83412a5642bf13a",
   "outputs": [
    {
     "data": {
      "text/plain": [
       "4192"
      ]
     },
     "execution_count": 176,
     "metadata": {},
     "output_type": "execute_result"
    }
   ],
   "execution_count": 176
  },
  {
   "metadata": {
    "ExecuteTime": {
     "end_time": "2024-06-20T15:41:11.255948Z",
     "start_time": "2024-06-20T15:41:11.254460Z"
    }
   },
   "cell_type": "code",
   "source": [
    "# убираем предупреждения\n",
    "pd.set_option('future.no_silent_downcasting', True)"
   ],
   "id": "fa4d2dad88c12b99",
   "outputs": [],
   "execution_count": 177
  },
  {
   "metadata": {
    "ExecuteTime": {
     "end_time": "2024-06-20T15:41:11.258150Z",
     "start_time": "2024-06-20T15:41:11.256402Z"
    }
   },
   "cell_type": "code",
   "source": [
    "def fill_mode(group):\n",
    "    mode_value = group.mode().iloc[0] if not group.mode().empty else np.nan\n",
    "    return group.fillna(mode_value)"
   ],
   "id": "4d4b1a224203b5df",
   "outputs": [],
   "execution_count": 178
  },
  {
   "metadata": {
    "ExecuteTime": {
     "end_time": "2024-06-20T15:41:11.313899Z",
     "start_time": "2024-06-20T15:41:11.258879Z"
    }
   },
   "cell_type": "code",
   "source": "df.loc[df['ЖК'].notnull(), 'Лифт'] = df.groupby('ЖК')['Лифт'].transform(fill_mode)",
   "id": "84d6ede061a82dec",
   "outputs": [],
   "execution_count": 179
  },
  {
   "metadata": {
    "ExecuteTime": {
     "end_time": "2024-06-20T15:41:11.317212Z",
     "start_time": "2024-06-20T15:41:11.314492Z"
    }
   },
   "cell_type": "code",
   "source": [
    "# 800 лифтов заполнено, успех!\n",
    "df['Лифт'].isnull().sum()"
   ],
   "id": "69e0ef15e46baf58",
   "outputs": [
    {
     "data": {
      "text/plain": [
       "3363"
      ]
     },
     "execution_count": 180,
     "metadata": {},
     "output_type": "execute_result"
    }
   ],
   "execution_count": 180
  },
  {
   "metadata": {
    "ExecuteTime": {
     "end_time": "2024-06-20T15:41:12.241647Z",
     "start_time": "2024-06-20T15:41:11.317885Z"
    }
   },
   "cell_type": "code",
   "source": [
    "# попробуем по адресу\n",
    "df.loc[df['Адрес'].notnull(), 'Лифт'] = df.groupby('Адрес')['Лифт'].transform(fill_mode)"
   ],
   "id": "bf50e2d20fe39ae2",
   "outputs": [],
   "execution_count": 181
  },
  {
   "metadata": {
    "ExecuteTime": {
     "end_time": "2024-06-20T15:41:12.244921Z",
     "start_time": "2024-06-20T15:41:12.242316Z"
    }
   },
   "cell_type": "code",
   "source": [
    "# еще 800!\n",
    "df['Лифт'].isnull().sum()"
   ],
   "id": "3aa2980c4d0012a4",
   "outputs": [
    {
     "data": {
      "text/plain": [
       "2572"
      ]
     },
     "execution_count": 182,
     "metadata": {},
     "output_type": "execute_result"
    }
   ],
   "execution_count": 182
  },
  {
   "metadata": {
    "ExecuteTime": {
     "end_time": "2024-06-20T15:41:12.247383Z",
     "start_time": "2024-06-20T15:41:12.245766Z"
    }
   },
   "cell_type": "code",
   "source": [
    "# остальные посчитаем в качестве моды для данной этажности дома\n",
    "def get_floor(text):\n",
    "    return int(text.split(',')[0].split('/')[1])"
   ],
   "id": "fa64be6448d46b8d",
   "outputs": [],
   "execution_count": 183
  },
  {
   "metadata": {
    "ExecuteTime": {
     "end_time": "2024-06-20T15:41:12.256681Z",
     "start_time": "2024-06-20T15:41:12.248137Z"
    }
   },
   "cell_type": "code",
   "source": "df['Этажность дома'] = df['Дом'].apply(get_floor)",
   "id": "dd01232b2df1a568",
   "outputs": [],
   "execution_count": 184
  },
  {
   "metadata": {
    "ExecuteTime": {
     "end_time": "2024-06-20T15:41:12.270475Z",
     "start_time": "2024-06-20T15:41:12.257342Z"
    }
   },
   "cell_type": "code",
   "source": "df['Лифт'] = df.groupby('Этажность дома')['Лифт'].transform(fill_mode)",
   "id": "4f1eb918b07fc335",
   "outputs": [],
   "execution_count": 185
  },
  {
   "metadata": {
    "ExecuteTime": {
     "end_time": "2024-06-20T15:41:12.274163Z",
     "start_time": "2024-06-20T15:41:12.271219Z"
    }
   },
   "cell_type": "code",
   "source": [
    "# осталось 5 одноэтажных домов cо спокойной душой тыкнем, что лифта нет\n",
    "df[df['Лифт'].isnull()]['Этажность дома']"
   ],
   "id": "eb2b37eae46f2f28",
   "outputs": [
    {
     "data": {
      "text/plain": [
       "2578     1\n",
       "11759    1\n",
       "17465    1\n",
       "22914    1\n",
       "22954    1\n",
       "Name: Этажность дома, dtype: int64"
      ]
     },
     "execution_count": 186,
     "metadata": {},
     "output_type": "execute_result"
    }
   ],
   "execution_count": 186
  },
  {
   "metadata": {
    "ExecuteTime": {
     "end_time": "2024-06-20T15:41:12.277826Z",
     "start_time": "2024-06-20T15:41:12.274875Z"
    }
   },
   "cell_type": "code",
   "source": "df.fillna({'Лифт': 'Нет'}, inplace=True)",
   "id": "fe3dd8d3cda98f81",
   "outputs": [],
   "execution_count": 187
  },
  {
   "metadata": {
    "ExecuteTime": {
     "end_time": "2024-06-20T15:41:12.280990Z",
     "start_time": "2024-06-20T15:41:12.278521Z"
    }
   },
   "cell_type": "code",
   "source": "df['Лифт'].isnull().sum()",
   "id": "3d08e3db86c539e9",
   "outputs": [
    {
     "data": {
      "text/plain": [
       "0"
      ]
     },
     "execution_count": 188,
     "metadata": {},
     "output_type": "execute_result"
    }
   ],
   "execution_count": 188
  },
  {
   "metadata": {
    "ExecuteTime": {
     "end_time": "2024-06-20T15:41:12.284073Z",
     "start_time": "2024-06-20T15:41:12.281476Z"
    }
   },
   "cell_type": "code",
   "source": [
    "# с мусоропроводом попробуем поступить также\n",
    "df['Мусоропровод'].isnull().sum()"
   ],
   "id": "c75d93a65ce3b601",
   "outputs": [
    {
     "data": {
      "text/plain": [
       "8007"
      ]
     },
     "execution_count": 189,
     "metadata": {},
     "output_type": "execute_result"
    }
   ],
   "execution_count": 189
  },
  {
   "metadata": {
    "ExecuteTime": {
     "end_time": "2024-06-20T15:41:12.335341Z",
     "start_time": "2024-06-20T15:41:12.284697Z"
    }
   },
   "cell_type": "code",
   "source": [
    "# -2500\n",
    "df.loc[df['ЖК'].notnull(), 'Мусоропровод'] = df.groupby('ЖК')['Мусоропровод'].transform(fill_mode)\n",
    "df['Мусоропровод'].isnull().sum()"
   ],
   "id": "6601b4a758b682f3",
   "outputs": [
    {
     "data": {
      "text/plain": [
       "5633"
      ]
     },
     "execution_count": 190,
     "metadata": {},
     "output_type": "execute_result"
    }
   ],
   "execution_count": 190
  },
  {
   "metadata": {
    "ExecuteTime": {
     "end_time": "2024-06-20T15:41:13.261300Z",
     "start_time": "2024-06-20T15:41:12.336100Z"
    }
   },
   "cell_type": "code",
   "source": [
    "# -2500\n",
    "df.loc[df['ЖК'].notnull(), 'Мусоропровод'] = df.groupby('Адрес')['Мусоропровод'].transform(fill_mode)\n",
    "df['Мусоропровод'].isnull().sum()"
   ],
   "id": "ff274b94bec28fa6",
   "outputs": [
    {
     "data": {
      "text/plain": [
       "5609"
      ]
     },
     "execution_count": 191,
     "metadata": {},
     "output_type": "execute_result"
    }
   ],
   "execution_count": 191
  },
  {
   "metadata": {
    "ExecuteTime": {
     "end_time": "2024-06-20T15:41:13.275261Z",
     "start_time": "2024-06-20T15:41:13.261973Z"
    }
   },
   "cell_type": "code",
   "source": [
    "# уже не очень логично, но раскидаем так же по этажности\n",
    "df['Мусоропровод'] = df.groupby('Этажность дома')['Мусоропровод'].transform(fill_mode)\n",
    "df['Мусоропровод'].isnull().sum()"
   ],
   "id": "98201bcc95d98a17",
   "outputs": [
    {
     "data": {
      "text/plain": [
       "1"
      ]
     },
     "execution_count": 192,
     "metadata": {},
     "output_type": "execute_result"
    }
   ],
   "execution_count": 192
  },
  {
   "metadata": {
    "ExecuteTime": {
     "end_time": "2024-06-20T15:45:32.357177Z",
     "start_time": "2024-06-20T15:45:32.353588Z"
    }
   },
   "cell_type": "code",
   "source": [
    "# чертов один мусоропровод в 116 этажном доме \n",
    "# проверил - их там 16 https://domclick.ru/building/yuzao--tyoplyj-stan--leninskij-prospekt--123k1?utm_referrer=https%3A%2F%2Fwww.google.com%2F\n",
    "df.loc[df['Мусоропровод'].isnull(), 'Этажность дома'] = 16"
   ],
   "id": "c0c2023a054994e6",
   "outputs": [],
   "execution_count": 198
  },
  {
   "metadata": {
    "ExecuteTime": {
     "end_time": "2024-06-20T15:45:54.369909Z",
     "start_time": "2024-06-20T15:45:54.346613Z"
    }
   },
   "cell_type": "code",
   "source": [
    "# перезапустим\n",
    "df['Мусоропровод'] = df.groupby('Этажность дома')['Мусоропровод'].transform(fill_mode)\n",
    "df['Мусоропровод'].isnull().sum()"
   ],
   "id": "fee10656b85129b4",
   "outputs": [
    {
     "data": {
      "text/plain": [
       "0"
      ]
     },
     "execution_count": 199,
     "metadata": {},
     "output_type": "execute_result"
    }
   ],
   "execution_count": 199
  },
  {
   "metadata": {
    "ExecuteTime": {
     "end_time": "2024-06-20T15:45:59.252686Z",
     "start_time": "2024-06-20T15:45:59.245891Z"
    }
   },
   "cell_type": "code",
   "source": [
    "# на этом моя работа по очистке всё, закинем нужные нам колонки в новый чистый датасет для \n",
    "# объединения с первой половиной фичей и дальнейшей работой по фич инженерингу\n",
    "\n",
    "# удаляю все вспомогательные фичи (чтобы почти все из них вернуть на фазе 3 ахах)\n",
    "# так же оставляю ссылку чтобы можно было что-то проверить при необходимости\n",
    "\n",
    "df_cleared = df[['ID  объявления', 'Ремонт', 'Площадь комнат, м2', 'Балкон', 'Окна', 'Санузел', \n",
    "                 'Можно с детьми/животными', 'Дополнительно', 'Высота потолков, м', 'Лифт', 'Мусоропровод', 'Ссылка на объявление']]"
   ],
   "id": "82e97429dd43082f",
   "outputs": [],
   "execution_count": 200
  },
  {
   "metadata": {
    "ExecuteTime": {
     "end_time": "2024-06-20T15:46:01.254689Z",
     "start_time": "2024-06-20T15:46:01.242929Z"
    }
   },
   "cell_type": "code",
   "source": [
    "# убеждаемся, что все чистенько, кроме \"Дополнительно\", но так и планировалось\n",
    "df_cleared.isnull().sum()"
   ],
   "id": "759bed0c1b749ba4",
   "outputs": [
    {
     "data": {
      "text/plain": [
       "ID  объявления                0\n",
       "Ремонт                        0\n",
       "Площадь комнат, м2            0\n",
       "Балкон                        0\n",
       "Окна                          0\n",
       "Санузел                       0\n",
       "Можно с детьми/животными      0\n",
       "Дополнительно               272\n",
       "Высота потолков, м            0\n",
       "Лифт                          0\n",
       "Мусоропровод                  0\n",
       "Ссылка на объявление          0\n",
       "dtype: int64"
      ]
     },
     "execution_count": 201,
     "metadata": {},
     "output_type": "execute_result"
    }
   ],
   "execution_count": 201
  },
  {
   "metadata": {
    "ExecuteTime": {
     "end_time": "2024-06-20T15:46:05.476429Z",
     "start_time": "2024-06-20T15:46:05.376583Z"
    }
   },
   "cell_type": "code",
   "source": [
    "# экспорт\n",
    "df_cleared.to_csv('../../data/processed/data_nun_cleared(2_of_2).csv')"
   ],
   "id": "996a872ab037969",
   "outputs": [],
   "execution_count": 202
  }
 ],
 "metadata": {
  "kernelspec": {
   "display_name": "Python 3",
   "language": "python",
   "name": "python3"
  },
  "language_info": {
   "codemirror_mode": {
    "name": "ipython",
    "version": 2
   },
   "file_extension": ".py",
   "mimetype": "text/x-python",
   "name": "python",
   "nbconvert_exporter": "python",
   "pygments_lexer": "ipython2",
   "version": "2.7.6"
  }
 },
 "nbformat": 4,
 "nbformat_minor": 5
}
