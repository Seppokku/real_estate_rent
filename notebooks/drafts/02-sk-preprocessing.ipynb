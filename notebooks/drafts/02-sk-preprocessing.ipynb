{
 "cells": [
  {
   "cell_type": "code",
   "id": "initial_id",
   "metadata": {
    "collapsed": true,
    "ExecuteTime": {
     "end_time": "2024-06-20T21:06:42.208289Z",
     "start_time": "2024-06-20T21:06:41.601434Z"
    }
   },
   "source": [
    "import pandas as pd\n",
    "import numpy as np\n",
    "pd.options.display.float_format = '{:,.2f}'.format\n",
    "\n",
    "import matplotlib as mpl\n",
    "import matplotlib.pyplot as plt\n",
    "import seaborn as sns\n",
    "plt.style.use('https://github.com/dhaitz/matplotlib-stylesheets/raw/master/pitayasmoothie-dark.mplstyle')"
   ],
   "outputs": [],
   "execution_count": 88
  },
  {
   "metadata": {
    "ExecuteTime": {
     "end_time": "2024-06-20T21:06:42.624848Z",
     "start_time": "2024-06-20T21:06:42.209509Z"
    }
   },
   "cell_type": "code",
   "source": [
    "# загружаем датафрейм\n",
    "df = pd.read_csv('../../data/raw/_data.csv')"
   ],
   "id": "2f4e6ca825c73bee",
   "outputs": [],
   "execution_count": 89
  },
  {
   "metadata": {
    "ExecuteTime": {
     "end_time": "2024-06-20T21:06:42.639510Z",
     "start_time": "2024-06-20T21:06:42.625488Z"
    }
   },
   "cell_type": "code",
   "source": [
    "# общие пропуски\n",
    "df.isnull().sum()"
   ],
   "id": "f03ee67d906a30",
   "outputs": [
    {
     "data": {
      "text/plain": [
       "Unnamed: 0                      0\n",
       "ID  объявления                  0\n",
       "Количество комнат            1041\n",
       "Тип                             0\n",
       "Метро                        1315\n",
       "Адрес                           0\n",
       "Площадь, м2                     0\n",
       "Дом                             0\n",
       "Парковка                    13417\n",
       "Цена                            0\n",
       "Телефоны                        0\n",
       "Описание                        0\n",
       "Ремонт                       2755\n",
       "Площадь комнат, м2           8910\n",
       "Балкон                       7978\n",
       "Окна                         6613\n",
       "Санузел                      2672\n",
       "Можно с детьми/животными     6096\n",
       "Дополнительно                 357\n",
       "Название ЖК                 17520\n",
       "Серия дома                  21205\n",
       "Высота потолков, м          12162\n",
       "Лифт                         5500\n",
       "Мусоропровод                10522\n",
       "Ссылка на объявление            0\n",
       "dtype: int64"
      ]
     },
     "execution_count": 90,
     "metadata": {},
     "output_type": "execute_result"
    }
   ],
   "execution_count": 90
  },
  {
   "metadata": {
    "ExecuteTime": {
     "end_time": "2024-06-20T21:06:42.642210Z",
     "start_time": "2024-06-20T21:06:42.640600Z"
    }
   },
   "cell_type": "code",
   "source": [
    "# для начала уберем все объявления не из москвы\n",
    "def is_moscow(text):\n",
    "    return text.split(',')[0] == 'Москва'"
   ],
   "id": "e0914ab8bad9071d",
   "outputs": [],
   "execution_count": 91
  },
  {
   "metadata": {
    "ExecuteTime": {
     "end_time": "2024-06-20T21:06:42.655388Z",
     "start_time": "2024-06-20T21:06:42.642727Z"
    }
   },
   "cell_type": "code",
   "source": "df = df[df['Адрес'].apply(is_moscow)]",
   "id": "a1b6ebd607227567",
   "outputs": [],
   "execution_count": 92
  },
  {
   "metadata": {
    "ExecuteTime": {
     "end_time": "2024-06-20T21:06:42.658404Z",
     "start_time": "2024-06-20T21:06:42.656038Z"
    }
   },
   "cell_type": "code",
   "source": [
    "# начинаем заполнять пропуски с \"Ремонта\"\n",
    "df['Ремонт'].isnull().sum()"
   ],
   "id": "3567bb314c65e65f",
   "outputs": [
    {
     "data": {
      "text/plain": [
       "2463"
      ]
     },
     "execution_count": 93,
     "metadata": {},
     "output_type": "execute_result"
    }
   ],
   "execution_count": 93
  },
  {
   "metadata": {
    "ExecuteTime": {
     "end_time": "2024-06-20T21:06:42.660288Z",
     "start_time": "2024-06-20T21:06:42.658815Z"
    }
   },
   "cell_type": "code",
   "source": [
    "# после долгих размышлений было принято решение заполнять по принципу моды в\n",
    "# категориях квартир со схожей стоимостью. Может это того не стоит, но попробовать захотелось\n",
    "# для этого сначала нужно достать цену аренды, тк это важный параметр\n",
    "\n",
    "# решил пойти таким путём (в надежде на то, что все цены вбиты в одном формате)\n",
    "def extract_price(text):\n",
    "    dot_index = text.find('.')\n",
    "    if dot_index != -1:\n",
    "        return int(text[:dot_index])\n",
    "    return None"
   ],
   "id": "3b7b61107ce7442",
   "outputs": [],
   "execution_count": 94
  },
  {
   "metadata": {
    "ExecuteTime": {
     "end_time": "2024-06-20T21:06:42.670110Z",
     "start_time": "2024-06-20T21:06:42.660865Z"
    }
   },
   "cell_type": "code",
   "source": [
    "df['Цена_2'] = df['Цена'].apply(extract_price)\n",
    "df['Цена_2'].describe()\n",
    "\n",
    "# вышло вроде неплохо (во всяком случае относительно похоже на правду)"
   ],
   "id": "97ebeba9d2952add",
   "outputs": [
    {
     "data": {
      "text/plain": [
       "count      19,737.00\n",
       "mean       86,563.85\n",
       "std       128,148.32\n",
       "min         5,000.00\n",
       "25%        39,990.00\n",
       "50%        50,000.00\n",
       "75%        75,000.00\n",
       "max     3,000,000.00\n",
       "Name: Цена_2, dtype: float64"
      ]
     },
     "execution_count": 95,
     "metadata": {},
     "output_type": "execute_result"
    }
   ],
   "execution_count": 95
  },
  {
   "metadata": {
    "ExecuteTime": {
     "end_time": "2024-06-20T21:06:42.673848Z",
     "start_time": "2024-06-20T21:06:42.670734Z"
    }
   },
   "cell_type": "code",
   "source": [
    "# создаём 10 различных ценовых групп по процентилям\n",
    "df['Ценовая_группа'] = pd.qcut(df['Цена_2'], 10, labels=False)"
   ],
   "id": "2c6306ae609a945e",
   "outputs": [],
   "execution_count": 96
  },
  {
   "metadata": {
    "ExecuteTime": {
     "end_time": "2024-06-20T21:06:42.682338Z",
     "start_time": "2024-06-20T21:06:42.675595Z"
    }
   },
   "cell_type": "code",
   "source": [
    "# заполняем пропуск модой по категории\n",
    "df['Ремонт'] = df.groupby('Ценовая_группа')['Ремонт'].transform(lambda x: x.fillna(x.mode()[0]))"
   ],
   "id": "6f2e84eba17b53eb",
   "outputs": [],
   "execution_count": 97
  },
  {
   "metadata": {
    "ExecuteTime": {
     "end_time": "2024-06-20T21:06:42.684317Z",
     "start_time": "2024-06-20T21:06:42.682991Z"
    }
   },
   "cell_type": "code",
   "source": [
    "# двигаемся к площади комнат, я заметил, что в фичи \"Площадь\" иногда указано 2 или 3 числа\n",
    "# посмотрев циан я узнал, что это общая площадь / жилая (площадь комнат) / площадь кухни\n",
    "# соответственно идея смотреть площадь и если чисел несколько - тащить второе"
   ],
   "id": "68fe7c99829ff880",
   "outputs": [],
   "execution_count": 98
  },
  {
   "metadata": {
    "ExecuteTime": {
     "end_time": "2024-06-20T21:06:42.687506Z",
     "start_time": "2024-06-20T21:06:42.684895Z"
    }
   },
   "cell_type": "code",
   "source": "df['Площадь комнат, м2'].isnull().sum()",
   "id": "de6580a1b3873da6",
   "outputs": [
    {
     "data": {
      "text/plain": [
       "7228"
      ]
     },
     "execution_count": 99,
     "metadata": {},
     "output_type": "execute_result"
    }
   ],
   "execution_count": 99
  },
  {
   "metadata": {
    "ExecuteTime": {
     "end_time": "2024-06-20T21:06:42.689761Z",
     "start_time": "2024-06-20T21:06:42.688040Z"
    }
   },
   "cell_type": "code",
   "source": [
    "# функция вытаскивания жилой площади\n",
    "def extract_room_square(text: str):\n",
    "    lst = text.split('/')\n",
    "    if len(lst) == 3:\n",
    "        return float(lst[1])"
   ],
   "id": "fedfcb7e7007c344",
   "outputs": [],
   "execution_count": 100
  },
  {
   "metadata": {
    "ExecuteTime": {
     "end_time": "2024-06-20T21:06:42.697523Z",
     "start_time": "2024-06-20T21:06:42.690274Z"
    }
   },
   "cell_type": "code",
   "source": [
    "# сделал такую версию, чтобы пандас не ругался\n",
    "df.fillna({'Площадь комнат, м2': df['Площадь, м2'].apply(extract_room_square)}, inplace=True)"
   ],
   "id": "24c924084e0fa2f5",
   "outputs": [],
   "execution_count": 101
  },
  {
   "metadata": {
    "ExecuteTime": {
     "end_time": "2024-06-20T21:06:42.700619Z",
     "start_time": "2024-06-20T21:06:42.698240Z"
    }
   },
   "cell_type": "code",
   "source": [
    "# прокатило для половины вариантов!\n",
    "df['Площадь комнат, м2'].isnull().sum()"
   ],
   "id": "d6a5570b314d9635",
   "outputs": [
    {
     "data": {
      "text/plain": [
       "3692"
      ]
     },
     "execution_count": 102,
     "metadata": {},
     "output_type": "execute_result"
    }
   ],
   "execution_count": 102
  },
  {
   "metadata": {
    "ExecuteTime": {
     "end_time": "2024-06-20T21:06:42.708261Z",
     "start_time": "2024-06-20T21:06:42.701076Z"
    }
   },
   "cell_type": "code",
   "source": [
    "# остальные заметим путём умножения площади на коэффициент площади жилья\n",
    "# его можно было бы получить из нашего датасета, но данные пока не очищены\n",
    "# поэтому я нагуглю - получил 0.7 что думаю недалеко от правды\n",
    "\n",
    "SQUARE_COEF = 0.7\n",
    "\n",
    "def extract_total_square(text: str):\n",
    "    lst = text.split('/')\n",
    "    return float(lst[0])\n",
    "\n",
    "df.fillna({'Площадь комнат, м2': df['Площадь, м2'].apply(extract_total_square) * SQUARE_COEF}, inplace=True)"
   ],
   "id": "5fa3bcc35d270863",
   "outputs": [],
   "execution_count": 103
  },
  {
   "metadata": {
    "ExecuteTime": {
     "end_time": "2024-06-20T21:06:42.711429Z",
     "start_time": "2024-06-20T21:06:42.708833Z"
    }
   },
   "cell_type": "code",
   "source": [
    "# успех\n",
    "df['Площадь комнат, м2'].isnull().sum()"
   ],
   "id": "3c353c8bf3296216",
   "outputs": [
    {
     "data": {
      "text/plain": [
       "0"
      ]
     },
     "execution_count": 104,
     "metadata": {},
     "output_type": "execute_result"
    }
   ],
   "execution_count": 104
  },
  {
   "metadata": {
    "ExecuteTime": {
     "end_time": "2024-06-20T21:06:42.714483Z",
     "start_time": "2024-06-20T21:06:42.712154Z"
    }
   },
   "cell_type": "code",
   "source": [
    "# настало время окон\n",
    "df['Окна'].isnull().sum()"
   ],
   "id": "70c155a5969128d",
   "outputs": [
    {
     "data": {
      "text/plain": [
       "5150"
      ]
     },
     "execution_count": 105,
     "metadata": {},
     "output_type": "execute_result"
    }
   ],
   "execution_count": 105
  },
  {
   "metadata": {
    "ExecuteTime": {
     "end_time": "2024-06-20T21:06:42.716237Z",
     "start_time": "2024-06-20T21:06:42.714924Z"
    }
   },
   "cell_type": "code",
   "source": [
    "# душа требует какой-нибудь сложной модели, но я так пока не умею\n",
    "# и ничего адекватного в голову не приходит, поэтому я опять заполню модой на основе группировке по ценам\n",
    "# хоть это и не звучит как самый логичный метод"
   ],
   "id": "b3dfa4fb7daed1d0",
   "outputs": [],
   "execution_count": 106
  },
  {
   "metadata": {
    "ExecuteTime": {
     "end_time": "2024-06-20T21:06:42.722546Z",
     "start_time": "2024-06-20T21:06:42.716696Z"
    }
   },
   "cell_type": "code",
   "source": "df['Окна'] = df.groupby('Ценовая_группа')['Окна'].transform(lambda x: x.fillna(x.mode()[0]))",
   "id": "10e8554a9990aa9f",
   "outputs": [],
   "execution_count": 107
  },
  {
   "metadata": {
    "ExecuteTime": {
     "end_time": "2024-06-20T21:06:42.726147Z",
     "start_time": "2024-06-20T21:06:42.723254Z"
    }
   },
   "cell_type": "code",
   "source": [
    "# с балконами я считаю метод простой. не указал, что он есть, значит его нет, нищеброд!\n",
    "df.fillna({'Балкон': 'Нет'}, inplace=True)"
   ],
   "id": "3ee0c62ee096413e",
   "outputs": [],
   "execution_count": 108
  },
  {
   "metadata": {
    "ExecuteTime": {
     "end_time": "2024-06-20T21:06:42.739451Z",
     "start_time": "2024-06-20T21:06:42.726781Z"
    }
   },
   "cell_type": "code",
   "source": [
    "# с санузлом мы пойдём похожим путём, только сделаем группы по площади\n",
    "df['Площадь, м2_new'] = df['Площадь, м2'].apply(extract_total_square)\n",
    "df['Размерная_группа'] = pd.qcut(df['Площадь, м2_new'], 10, labels=False)\n",
    "df['Санузел'] = df.groupby('Размерная_группа')['Санузел'].transform(lambda x: x.fillna(x.mode()[0]))"
   ],
   "id": "bc2a8cdee7326976",
   "outputs": [],
   "execution_count": 109
  },
  {
   "metadata": {
    "ExecuteTime": {
     "end_time": "2024-06-20T21:06:42.742885Z",
     "start_time": "2024-06-20T21:06:42.740100Z"
    }
   },
   "cell_type": "code",
   "source": [
    "# пропуск с Можно с детьми/животными я решил сделать отдельной категориальной переменной \"Ни с кем нельзя!\"\n",
    "# тк такого варианта не было в оригинальных штуках, а точно есть люди, которые никого не одобряют\n",
    "df.fillna({'Можно с детьми/животными': 'Ни с кем нельзя!'}, inplace=True)"
   ],
   "id": "7a4c8cd7fd65729",
   "outputs": [],
   "execution_count": 110
  },
  {
   "metadata": {
    "ExecuteTime": {
     "end_time": "2024-06-20T21:06:42.745135Z",
     "start_time": "2024-06-20T21:06:42.743490Z"
    }
   },
   "cell_type": "code",
   "source": [
    "# касательно \"Дополнительно\". Думаю врядли есть какой-то способ узнать, есть ли там холодильник, \n",
    "# кроме как звонки или просмотр фото, поэтому пропуски там оставлю пропусками\n",
    "# в будущем это превратится в 0 во всех 11 категориях"
   ],
   "id": "db5110711e5732e8",
   "outputs": [],
   "execution_count": 111
  },
  {
   "metadata": {
    "ExecuteTime": {
     "end_time": "2024-06-20T21:06:42.750515Z",
     "start_time": "2024-06-20T21:06:42.745988Z"
    }
   },
   "cell_type": "code",
   "source": [
    "# высоту потолков заполним медианным значением для ценовой категории\n",
    "df['Высота потолков, м'] = df.groupby('Ценовая_группа')['Высота потолков, м'].transform(lambda x: x.fillna(x.median()))"
   ],
   "id": "6546af8ca89ef0c1",
   "outputs": [],
   "execution_count": 112
  },
  {
   "metadata": {
    "ExecuteTime": {
     "end_time": "2024-06-20T21:06:42.752598Z",
     "start_time": "2024-06-20T21:06:42.750987Z"
    }
   },
   "cell_type": "code",
   "source": [
    "# очистим название жк от года\n",
    "def zk_separator(text):\n",
    "    if isinstance(text, str):\n",
    "        return text.split(',')[0]"
   ],
   "id": "a736e5c7509dc9e0",
   "outputs": [],
   "execution_count": 113
  },
  {
   "metadata": {
    "ExecuteTime": {
     "end_time": "2024-06-20T21:06:42.757148Z",
     "start_time": "2024-06-20T21:06:42.753216Z"
    }
   },
   "cell_type": "code",
   "source": "df['ЖК'] =  df['Название ЖК'].apply(zk_separator)",
   "id": "5db27936179088fe",
   "outputs": [],
   "execution_count": 114
  },
  {
   "metadata": {
    "ExecuteTime": {
     "end_time": "2024-06-20T21:06:42.763347Z",
     "start_time": "2024-06-20T21:06:42.760608Z"
    }
   },
   "cell_type": "code",
   "source": [
    "# наличие лифта сначала попробуем притянуть из данных по тому же ЖК\n",
    "df['Лифт'].isnull().sum()"
   ],
   "id": "b83412a5642bf13a",
   "outputs": [
    {
     "data": {
      "text/plain": [
       "4192"
      ]
     },
     "execution_count": 115,
     "metadata": {},
     "output_type": "execute_result"
    }
   ],
   "execution_count": 115
  },
  {
   "metadata": {
    "ExecuteTime": {
     "end_time": "2024-06-20T21:06:42.765929Z",
     "start_time": "2024-06-20T21:06:42.764345Z"
    }
   },
   "cell_type": "code",
   "source": [
    "# убираем предупреждения\n",
    "pd.set_option('future.no_silent_downcasting', True)"
   ],
   "id": "fa4d2dad88c12b99",
   "outputs": [],
   "execution_count": 116
  },
  {
   "metadata": {
    "ExecuteTime": {
     "end_time": "2024-06-20T21:06:42.768030Z",
     "start_time": "2024-06-20T21:06:42.766424Z"
    }
   },
   "cell_type": "code",
   "source": [
    "def fill_mode(group):\n",
    "    mode_value = group.mode().iloc[0] if not group.mode().empty else np.nan\n",
    "    return group.fillna(mode_value)"
   ],
   "id": "4d4b1a224203b5df",
   "outputs": [],
   "execution_count": 117
  },
  {
   "metadata": {
    "ExecuteTime": {
     "end_time": "2024-06-20T21:06:42.819934Z",
     "start_time": "2024-06-20T21:06:42.768554Z"
    }
   },
   "cell_type": "code",
   "source": "df.loc[df['ЖК'].notnull(), 'Лифт'] = df.groupby('ЖК')['Лифт'].transform(fill_mode)",
   "id": "84d6ede061a82dec",
   "outputs": [],
   "execution_count": 118
  },
  {
   "metadata": {
    "ExecuteTime": {
     "end_time": "2024-06-20T21:06:42.823103Z",
     "start_time": "2024-06-20T21:06:42.820645Z"
    }
   },
   "cell_type": "code",
   "source": [
    "# 800 лифтов заполнено, успех!\n",
    "df['Лифт'].isnull().sum()"
   ],
   "id": "69e0ef15e46baf58",
   "outputs": [
    {
     "data": {
      "text/plain": [
       "3363"
      ]
     },
     "execution_count": 119,
     "metadata": {},
     "output_type": "execute_result"
    }
   ],
   "execution_count": 119
  },
  {
   "metadata": {
    "ExecuteTime": {
     "end_time": "2024-06-20T21:06:43.719681Z",
     "start_time": "2024-06-20T21:06:42.823726Z"
    }
   },
   "cell_type": "code",
   "source": [
    "# попробуем по адресу\n",
    "df.loc[df['Адрес'].notnull(), 'Лифт'] = df.groupby('Адрес')['Лифт'].transform(fill_mode)"
   ],
   "id": "bf50e2d20fe39ae2",
   "outputs": [],
   "execution_count": 120
  },
  {
   "metadata": {
    "ExecuteTime": {
     "end_time": "2024-06-20T21:06:43.723526Z",
     "start_time": "2024-06-20T21:06:43.720375Z"
    }
   },
   "cell_type": "code",
   "source": [
    "# еще 800!\n",
    "df['Лифт'].isnull().sum()"
   ],
   "id": "3aa2980c4d0012a4",
   "outputs": [
    {
     "data": {
      "text/plain": [
       "2572"
      ]
     },
     "execution_count": 121,
     "metadata": {},
     "output_type": "execute_result"
    }
   ],
   "execution_count": 121
  },
  {
   "metadata": {
    "ExecuteTime": {
     "end_time": "2024-06-20T21:06:43.725960Z",
     "start_time": "2024-06-20T21:06:43.724067Z"
    }
   },
   "cell_type": "code",
   "source": [
    "# остальные посчитаем в качестве моды для данной этажности дома\n",
    "def get_floor(text):\n",
    "    return int(text.split(',')[0].split('/')[1])"
   ],
   "id": "fa64be6448d46b8d",
   "outputs": [],
   "execution_count": 122
  },
  {
   "metadata": {
    "ExecuteTime": {
     "end_time": "2024-06-20T21:06:43.735118Z",
     "start_time": "2024-06-20T21:06:43.726559Z"
    }
   },
   "cell_type": "code",
   "source": "df['Этажность дома'] = df['Дом'].apply(get_floor)",
   "id": "dd01232b2df1a568",
   "outputs": [],
   "execution_count": 123
  },
  {
   "metadata": {
    "ExecuteTime": {
     "end_time": "2024-06-20T21:06:43.748967Z",
     "start_time": "2024-06-20T21:06:43.735798Z"
    }
   },
   "cell_type": "code",
   "source": "df['Лифт'] = df.groupby('Этажность дома')['Лифт'].transform(fill_mode)",
   "id": "4f1eb918b07fc335",
   "outputs": [],
   "execution_count": 124
  },
  {
   "metadata": {
    "ExecuteTime": {
     "end_time": "2024-06-20T21:06:43.752856Z",
     "start_time": "2024-06-20T21:06:43.749617Z"
    }
   },
   "cell_type": "code",
   "source": [
    "# осталось 5 одноэтажных домов cо спокойной душой тыкнем, что лифта нет\n",
    "df[df['Лифт'].isnull()]['Этажность дома']"
   ],
   "id": "eb2b37eae46f2f28",
   "outputs": [
    {
     "data": {
      "text/plain": [
       "2578     1\n",
       "11759    1\n",
       "17465    1\n",
       "22914    1\n",
       "22954    1\n",
       "Name: Этажность дома, dtype: int64"
      ]
     },
     "execution_count": 125,
     "metadata": {},
     "output_type": "execute_result"
    }
   ],
   "execution_count": 125
  },
  {
   "metadata": {
    "ExecuteTime": {
     "end_time": "2024-06-20T21:06:43.756236Z",
     "start_time": "2024-06-20T21:06:43.753466Z"
    }
   },
   "cell_type": "code",
   "source": "df.fillna({'Лифт': 'Нет'}, inplace=True)",
   "id": "fe3dd8d3cda98f81",
   "outputs": [],
   "execution_count": 126
  },
  {
   "metadata": {
    "ExecuteTime": {
     "end_time": "2024-06-20T21:06:43.759729Z",
     "start_time": "2024-06-20T21:06:43.756870Z"
    }
   },
   "cell_type": "code",
   "source": "df['Лифт'].isnull().sum()",
   "id": "3d08e3db86c539e9",
   "outputs": [
    {
     "data": {
      "text/plain": [
       "0"
      ]
     },
     "execution_count": 127,
     "metadata": {},
     "output_type": "execute_result"
    }
   ],
   "execution_count": 127
  },
  {
   "metadata": {
    "ExecuteTime": {
     "end_time": "2024-06-20T21:06:43.762614Z",
     "start_time": "2024-06-20T21:06:43.760218Z"
    }
   },
   "cell_type": "code",
   "source": [
    "# с мусоропроводом попробуем поступить также\n",
    "df['Мусоропровод'].isnull().sum()"
   ],
   "id": "c75d93a65ce3b601",
   "outputs": [
    {
     "data": {
      "text/plain": [
       "8007"
      ]
     },
     "execution_count": 128,
     "metadata": {},
     "output_type": "execute_result"
    }
   ],
   "execution_count": 128
  },
  {
   "metadata": {
    "ExecuteTime": {
     "end_time": "2024-06-20T21:06:43.814231Z",
     "start_time": "2024-06-20T21:06:43.763196Z"
    }
   },
   "cell_type": "code",
   "source": [
    "# -2500\n",
    "df.loc[df['ЖК'].notnull(), 'Мусоропровод'] = df.groupby('ЖК')['Мусоропровод'].transform(fill_mode)\n",
    "df['Мусоропровод'].isnull().sum()"
   ],
   "id": "6601b4a758b682f3",
   "outputs": [
    {
     "data": {
      "text/plain": [
       "5633"
      ]
     },
     "execution_count": 129,
     "metadata": {},
     "output_type": "execute_result"
    }
   ],
   "execution_count": 129
  },
  {
   "metadata": {
    "ExecuteTime": {
     "end_time": "2024-06-20T21:06:44.823260Z",
     "start_time": "2024-06-20T21:06:43.817261Z"
    }
   },
   "cell_type": "code",
   "source": [
    "# -2500\n",
    "df.loc[df['ЖК'].notnull(), 'Мусоропровод'] = df.groupby('Адрес')['Мусоропровод'].transform(fill_mode)\n",
    "df['Мусоропровод'].isnull().sum()"
   ],
   "id": "ff274b94bec28fa6",
   "outputs": [
    {
     "data": {
      "text/plain": [
       "5609"
      ]
     },
     "execution_count": 130,
     "metadata": {},
     "output_type": "execute_result"
    }
   ],
   "execution_count": 130
  },
  {
   "metadata": {
    "ExecuteTime": {
     "end_time": "2024-06-20T21:06:44.838926Z",
     "start_time": "2024-06-20T21:06:44.823936Z"
    }
   },
   "cell_type": "code",
   "source": [
    "# уже не очень логично, но раскидаем так же по этажности\n",
    "df['Мусоропровод'] = df.groupby('Этажность дома')['Мусоропровод'].transform(fill_mode)\n",
    "df['Мусоропровод'].isnull().sum()"
   ],
   "id": "98201bcc95d98a17",
   "outputs": [
    {
     "data": {
      "text/plain": [
       "1"
      ]
     },
     "execution_count": 131,
     "metadata": {},
     "output_type": "execute_result"
    }
   ],
   "execution_count": 131
  },
  {
   "metadata": {
    "ExecuteTime": {
     "end_time": "2024-06-20T21:06:44.841655Z",
     "start_time": "2024-06-20T21:06:44.839573Z"
    }
   },
   "cell_type": "code",
   "source": [
    "# чертов один мусоропровод в 116 этажном доме \n",
    "# проверил - их там 16 https://domclick.ru/building/yuzao--tyoplyj-stan--leninskij-prospekt--123k1?utm_referrer=https%3A%2F%2Fwww.google.com%2F\n",
    "df.loc[df['Мусоропровод'].isnull(), 'Этажность дома'] = 16"
   ],
   "id": "c0c2023a054994e6",
   "outputs": [],
   "execution_count": 132
  },
  {
   "metadata": {
    "ExecuteTime": {
     "end_time": "2024-06-20T21:06:44.855039Z",
     "start_time": "2024-06-20T21:06:44.842118Z"
    }
   },
   "cell_type": "code",
   "source": [
    "# перезапустим\n",
    "df['Мусоропровод'] = df.groupby('Этажность дома')['Мусоропровод'].transform(fill_mode)\n",
    "df['Мусоропровод'].isnull().sum()"
   ],
   "id": "fee10656b85129b4",
   "outputs": [
    {
     "data": {
      "text/plain": [
       "0"
      ]
     },
     "execution_count": 133,
     "metadata": {},
     "output_type": "execute_result"
    }
   ],
   "execution_count": 133
  },
  {
   "metadata": {
    "ExecuteTime": {
     "end_time": "2024-06-20T21:06:44.860160Z",
     "start_time": "2024-06-20T21:06:44.855681Z"
    }
   },
   "cell_type": "code",
   "source": [
    "# на этом моя работа по очистке всё, закинем нужные нам колонки в новый чистый датасет для \n",
    "# объединения с первой половиной фичей и дальнейшей работой по фич инженерингу\n",
    "\n",
    "# удаляю все вспомогательные фичи (чтобы почти все из них вернуть на фазе 3 ахах)\n",
    "# так же оставляю ссылку чтобы можно было что-то проверить при необходимости\n",
    "\n",
    "df_cleared = df[['ID  объявления', 'Ремонт', 'Площадь комнат, м2', 'Балкон', 'Окна', 'Санузел', \n",
    "                 'Можно с детьми/животными', 'Дополнительно', 'Высота потолков, м', 'Лифт', 'Мусоропровод', 'Ссылка на объявление']]"
   ],
   "id": "82e97429dd43082f",
   "outputs": [],
   "execution_count": 134
  },
  {
   "metadata": {
    "ExecuteTime": {
     "end_time": "2024-06-20T21:06:44.867533Z",
     "start_time": "2024-06-20T21:06:44.860690Z"
    }
   },
   "cell_type": "code",
   "source": [
    "# убеждаемся, что все чистенько, кроме \"Дополнительно\", но так и планировалось\n",
    "df_cleared.isnull().sum()"
   ],
   "id": "759bed0c1b749ba4",
   "outputs": [
    {
     "data": {
      "text/plain": [
       "ID  объявления                0\n",
       "Ремонт                        0\n",
       "Площадь комнат, м2            0\n",
       "Балкон                        0\n",
       "Окна                          0\n",
       "Санузел                       0\n",
       "Можно с детьми/животными      0\n",
       "Дополнительно               272\n",
       "Высота потолков, м            0\n",
       "Лифт                          0\n",
       "Мусоропровод                  0\n",
       "Ссылка на объявление          0\n",
       "dtype: int64"
      ]
     },
     "execution_count": 135,
     "metadata": {},
     "output_type": "execute_result"
    }
   ],
   "execution_count": 135
  },
  {
   "metadata": {
    "ExecuteTime": {
     "end_time": "2024-06-20T21:06:44.952506Z",
     "start_time": "2024-06-20T21:06:44.868189Z"
    }
   },
   "cell_type": "code",
   "source": [
    "# экспорт\n",
    "df_cleared.to_csv('../../data/interim/data_nun_cleared(2_of_2).csv')"
   ],
   "id": "996a872ab037969",
   "outputs": [],
   "execution_count": 136
  }
 ],
 "metadata": {
  "kernelspec": {
   "display_name": "Python 3",
   "language": "python",
   "name": "python3"
  },
  "language_info": {
   "codemirror_mode": {
    "name": "ipython",
    "version": 2
   },
   "file_extension": ".py",
   "mimetype": "text/x-python",
   "name": "python",
   "nbconvert_exporter": "python",
   "pygments_lexer": "ipython2",
   "version": "2.7.6"
  }
 },
 "nbformat": 4,
 "nbformat_minor": 5
}
