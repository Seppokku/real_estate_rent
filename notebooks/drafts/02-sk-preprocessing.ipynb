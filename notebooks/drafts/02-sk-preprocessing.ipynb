{
 "cells": [
  {
   "cell_type": "code",
   "id": "initial_id",
   "metadata": {
    "collapsed": true,
    "ExecuteTime": {
     "end_time": "2024-06-20T15:17:18.802083Z",
     "start_time": "2024-06-20T15:17:17.735430Z"
    }
   },
   "source": [
    "import pandas as pd\n",
    "import numpy as np\n",
    "pd.options.display.float_format = '{:,.2f}'.format\n",
    "\n",
    "import matplotlib as mpl\n",
    "import matplotlib.pyplot as plt\n",
    "import seaborn as sns\n",
    "plt.style.use('https://github.com/dhaitz/matplotlib-stylesheets/raw/master/pitayasmoothie-dark.mplstyle')"
   ],
   "outputs": [],
   "execution_count": 531
  },
  {
   "metadata": {
    "ExecuteTime": {
     "end_time": "2024-06-20T15:17:19.223801Z",
     "start_time": "2024-06-20T15:17:18.804145Z"
    }
   },
   "cell_type": "code",
   "source": [
    "# загружаем датафрейм\n",
    "df = pd.read_csv('../../data/raw/_data.csv')"
   ],
   "id": "2f4e6ca825c73bee",
   "outputs": [],
   "execution_count": 532
  },
  {
   "metadata": {
    "ExecuteTime": {
     "end_time": "2024-06-20T15:17:19.245256Z",
     "start_time": "2024-06-20T15:17:19.229305Z"
    }
   },
   "cell_type": "code",
   "source": [
    "# общие пропуски\n",
    "df.isnull().sum()"
   ],
   "id": "f03ee67d906a30",
   "outputs": [
    {
     "data": {
      "text/plain": [
       "Unnamed: 0                      0\n",
       "ID  объявления                  0\n",
       "Количество комнат            1041\n",
       "Тип                             0\n",
       "Метро                        1315\n",
       "Адрес                           0\n",
       "Площадь, м2                     0\n",
       "Дом                             0\n",
       "Парковка                    13417\n",
       "Цена                            0\n",
       "Телефоны                        0\n",
       "Описание                        0\n",
       "Ремонт                       2755\n",
       "Площадь комнат, м2           8910\n",
       "Балкон                       7978\n",
       "Окна                         6613\n",
       "Санузел                      2672\n",
       "Можно с детьми/животными     6096\n",
       "Дополнительно                 357\n",
       "Название ЖК                 17520\n",
       "Серия дома                  21205\n",
       "Высота потолков, м          12162\n",
       "Лифт                         5500\n",
       "Мусоропровод                10522\n",
       "Ссылка на объявление            0\n",
       "dtype: int64"
      ]
     },
     "execution_count": 533,
     "metadata": {},
     "output_type": "execute_result"
    }
   ],
   "execution_count": 533
  },
  {
   "metadata": {
    "ExecuteTime": {
     "end_time": "2024-06-20T15:17:19.248138Z",
     "start_time": "2024-06-20T15:17:19.246437Z"
    }
   },
   "cell_type": "code",
   "source": [
    "# для начала уберем все объявления не из москвы\n",
    "def is_moscow(text):\n",
    "    return text.split(',')[0] == 'Москва'"
   ],
   "id": "e0914ab8bad9071d",
   "outputs": [],
   "execution_count": 534
  },
  {
   "metadata": {
    "ExecuteTime": {
     "end_time": "2024-06-20T15:17:19.262069Z",
     "start_time": "2024-06-20T15:17:19.248810Z"
    }
   },
   "cell_type": "code",
   "source": "df = df[df['Адрес'].apply(is_moscow)]",
   "id": "a1b6ebd607227567",
   "outputs": [],
   "execution_count": 535
  },
  {
   "metadata": {
    "ExecuteTime": {
     "end_time": "2024-06-20T15:17:19.265763Z",
     "start_time": "2024-06-20T15:17:19.262822Z"
    }
   },
   "cell_type": "code",
   "source": [
    "# начинаем заполнять пропуски с \"Ремонта\"\n",
    "df['Ремонт'].isnull().sum()"
   ],
   "id": "3567bb314c65e65f",
   "outputs": [
    {
     "data": {
      "text/plain": [
       "2463"
      ]
     },
     "execution_count": 536,
     "metadata": {},
     "output_type": "execute_result"
    }
   ],
   "execution_count": 536
  },
  {
   "metadata": {
    "ExecuteTime": {
     "end_time": "2024-06-20T15:17:19.268317Z",
     "start_time": "2024-06-20T15:17:19.266436Z"
    }
   },
   "cell_type": "code",
   "source": [
    "# после долгих размышлений было принято решение заполнять по принципу моды в\n",
    "# категориях квартир со схожей стоимостью. Может это того не стоит, но попробовать захотелось\n",
    "# для этого сначала нужно достать цену аренды, тк это важный параметр\n",
    "\n",
    "# решил пойти таким путём (в надежде на то, что все цены вбиты в одном формате)\n",
    "def extract_price(text):\n",
    "    dot_index = text.find('.')\n",
    "    if dot_index != -1:\n",
    "        return int(text[:dot_index])\n",
    "    return None"
   ],
   "id": "3b7b61107ce7442",
   "outputs": [],
   "execution_count": 537
  },
  {
   "metadata": {
    "ExecuteTime": {
     "end_time": "2024-06-20T15:17:19.279232Z",
     "start_time": "2024-06-20T15:17:19.268856Z"
    }
   },
   "cell_type": "code",
   "source": [
    "df['Цена_2'] = df['Цена'].apply(extract_price)\n",
    "df['Цена_2'].describe()\n",
    "\n",
    "# вышло вроде неплохо (во всяком случае относительно похоже на правду)"
   ],
   "id": "97ebeba9d2952add",
   "outputs": [
    {
     "data": {
      "text/plain": [
       "count      19,737.00\n",
       "mean       86,563.85\n",
       "std       128,148.32\n",
       "min         5,000.00\n",
       "25%        39,990.00\n",
       "50%        50,000.00\n",
       "75%        75,000.00\n",
       "max     3,000,000.00\n",
       "Name: Цена_2, dtype: float64"
      ]
     },
     "execution_count": 538,
     "metadata": {},
     "output_type": "execute_result"
    }
   ],
   "execution_count": 538
  },
  {
   "metadata": {
    "ExecuteTime": {
     "end_time": "2024-06-20T15:17:19.283158Z",
     "start_time": "2024-06-20T15:17:19.279789Z"
    }
   },
   "cell_type": "code",
   "source": [
    "# создаём 10 различных ценовых групп по процентилям\n",
    "df['Ценовая_группа'] = pd.qcut(df['Цена_2'], 10, labels=False)"
   ],
   "id": "2c6306ae609a945e",
   "outputs": [],
   "execution_count": 539
  },
  {
   "metadata": {
    "ExecuteTime": {
     "end_time": "2024-06-20T15:17:19.292354Z",
     "start_time": "2024-06-20T15:17:19.285304Z"
    }
   },
   "cell_type": "code",
   "source": [
    "# заполняем пропуск модой по категории\n",
    "df['Ремонт'] = df.groupby('Ценовая_группа')['Ремонт'].transform(lambda x: x.fillna(x.mode()[0]))"
   ],
   "id": "6f2e84eba17b53eb",
   "outputs": [],
   "execution_count": 540
  },
  {
   "metadata": {
    "ExecuteTime": {
     "end_time": "2024-06-20T15:17:19.294697Z",
     "start_time": "2024-06-20T15:17:19.292989Z"
    }
   },
   "cell_type": "code",
   "source": [
    "# двигаемся к площади комнат, я заметил, что в фичи \"Площадь\" иногда указано 2 или 3 числа\n",
    "# посмотрев циан я узнал, что это общая площадь / жилая (площадь комнат) / площадь кухни\n",
    "# соответственно идея смотреть площадь и если чисел несколько - тащить второе"
   ],
   "id": "68fe7c99829ff880",
   "outputs": [],
   "execution_count": 541
  },
  {
   "metadata": {
    "ExecuteTime": {
     "end_time": "2024-06-20T15:17:19.297862Z",
     "start_time": "2024-06-20T15:17:19.295295Z"
    }
   },
   "cell_type": "code",
   "source": "df['Площадь комнат, м2'].isnull().sum()",
   "id": "de6580a1b3873da6",
   "outputs": [
    {
     "data": {
      "text/plain": [
       "7228"
      ]
     },
     "execution_count": 542,
     "metadata": {},
     "output_type": "execute_result"
    }
   ],
   "execution_count": 542
  },
  {
   "metadata": {
    "ExecuteTime": {
     "end_time": "2024-06-20T15:17:19.300163Z",
     "start_time": "2024-06-20T15:17:19.298452Z"
    }
   },
   "cell_type": "code",
   "source": [
    "# функция вытаскивания жилой площади\n",
    "def extract_room_square(text: str):\n",
    "    lst = text.split('/')\n",
    "    if len(lst) > 2:\n",
    "        return float(lst[1])"
   ],
   "id": "fedfcb7e7007c344",
   "outputs": [],
   "execution_count": 543
  },
  {
   "metadata": {
    "ExecuteTime": {
     "end_time": "2024-06-20T15:17:19.309062Z",
     "start_time": "2024-06-20T15:17:19.300732Z"
    }
   },
   "cell_type": "code",
   "source": [
    "# сделал такую версию, чтобы пандас не ругался\n",
    "df.fillna({'Площадь комнат, м2': df['Площадь, м2'].apply(extract_room_square)}, inplace=True)"
   ],
   "id": "24c924084e0fa2f5",
   "outputs": [],
   "execution_count": 544
  },
  {
   "metadata": {
    "ExecuteTime": {
     "end_time": "2024-06-20T15:17:19.312662Z",
     "start_time": "2024-06-20T15:17:19.309823Z"
    }
   },
   "cell_type": "code",
   "source": [
    "# прокатило для половины вариантов!\n",
    "df['Площадь комнат, м2'].isnull().sum()"
   ],
   "id": "d6a5570b314d9635",
   "outputs": [
    {
     "data": {
      "text/plain": [
       "3692"
      ]
     },
     "execution_count": 545,
     "metadata": {},
     "output_type": "execute_result"
    }
   ],
   "execution_count": 545
  },
  {
   "metadata": {
    "ExecuteTime": {
     "end_time": "2024-06-20T15:17:19.322182Z",
     "start_time": "2024-06-20T15:17:19.313282Z"
    }
   },
   "cell_type": "code",
   "source": [
    "# остальные заметим путём умножения площади на коэффициент площади жилья\n",
    "# его можно было бы получить из нашего датасета, но данные пока не очищены\n",
    "# поэтому я нагуглю - получил 0.7 что думаю недалеко от правды\n",
    "\n",
    "SQUARE_COEF = 0.7\n",
    "\n",
    "def extract_total_square(text: str):\n",
    "    lst = text.split('/')\n",
    "    return float(lst[0])\n",
    "\n",
    "df.fillna({'Площадь комнат, м2': df['Площадь, м2'].apply(extract_total_square) * SQUARE_COEF}, inplace=True)"
   ],
   "id": "5fa3bcc35d270863",
   "outputs": [],
   "execution_count": 546
  },
  {
   "metadata": {
    "ExecuteTime": {
     "end_time": "2024-06-20T15:17:19.325355Z",
     "start_time": "2024-06-20T15:17:19.322842Z"
    }
   },
   "cell_type": "code",
   "source": [
    "# успех\n",
    "df['Площадь комнат, м2'].isnull().sum()"
   ],
   "id": "3c353c8bf3296216",
   "outputs": [
    {
     "data": {
      "text/plain": [
       "0"
      ]
     },
     "execution_count": 547,
     "metadata": {},
     "output_type": "execute_result"
    }
   ],
   "execution_count": 547
  },
  {
   "metadata": {
    "ExecuteTime": {
     "end_time": "2024-06-20T15:17:19.329060Z",
     "start_time": "2024-06-20T15:17:19.325924Z"
    }
   },
   "cell_type": "code",
   "source": [
    "# настало время окон\n",
    "df['Окна'].isnull().sum()"
   ],
   "id": "70c155a5969128d",
   "outputs": [
    {
     "data": {
      "text/plain": [
       "5150"
      ]
     },
     "execution_count": 548,
     "metadata": {},
     "output_type": "execute_result"
    }
   ],
   "execution_count": 548
  },
  {
   "metadata": {
    "ExecuteTime": {
     "end_time": "2024-06-20T15:17:19.331753Z",
     "start_time": "2024-06-20T15:17:19.330003Z"
    }
   },
   "cell_type": "code",
   "source": [
    "# душа требует какой-нибудь сложной модели, но я так пока не умею\n",
    "# и ничего адекватного в голову не приходит, поэтому я опять заполню модой на основе группировке по ценам\n",
    "# хоть это и не звучит как самый логичный метод"
   ],
   "id": "b3dfa4fb7daed1d0",
   "outputs": [],
   "execution_count": 549
  },
  {
   "metadata": {
    "ExecuteTime": {
     "end_time": "2024-06-20T15:17:19.339270Z",
     "start_time": "2024-06-20T15:17:19.332452Z"
    }
   },
   "cell_type": "code",
   "source": "df['Окна'] = df.groupby('Ценовая_группа')['Окна'].transform(lambda x: x.fillna(x.mode()[0]))",
   "id": "10e8554a9990aa9f",
   "outputs": [],
   "execution_count": 550
  },
  {
   "metadata": {
    "ExecuteTime": {
     "end_time": "2024-06-20T15:17:19.343208Z",
     "start_time": "2024-06-20T15:17:19.340074Z"
    }
   },
   "cell_type": "code",
   "source": [
    "# с балконами я считаю метод простой. не указал, что он есть, значит его нет, нищеброд!\n",
    "df.fillna({'Балкон': 'Нет'}, inplace=True)"
   ],
   "id": "3ee0c62ee096413e",
   "outputs": [],
   "execution_count": 551
  },
  {
   "metadata": {
    "ExecuteTime": {
     "end_time": "2024-06-20T15:17:19.356871Z",
     "start_time": "2024-06-20T15:17:19.344051Z"
    }
   },
   "cell_type": "code",
   "source": [
    "# с санузлом мы пойдём похожим путём, только сделаем группы по площади\n",
    "df['Площадь, м2_new'] = df['Площадь, м2'].apply(extract_total_square)\n",
    "df['Размерная_группа'] = pd.qcut(df['Площадь, м2_new'], 10, labels=False)\n",
    "df['Санузел'] = df.groupby('Размерная_группа')['Санузел'].transform(lambda x: x.fillna(x.mode()[0]))"
   ],
   "id": "bc2a8cdee7326976",
   "outputs": [],
   "execution_count": 552
  },
  {
   "metadata": {
    "ExecuteTime": {
     "end_time": "2024-06-20T15:17:19.360779Z",
     "start_time": "2024-06-20T15:17:19.357484Z"
    }
   },
   "cell_type": "code",
   "source": [
    "# пропуск с Можно с детьми/животными я решил сделать отдельной категориальной переменной \"Ни с кем нельзя!\"\n",
    "# тк такого варианта не было в оригинальных штуках, а точно есть люди, которые никого не одобряют\n",
    "df.fillna({'Можно с детьми/животными': 'Ни с кем нельзя!'}, inplace=True)"
   ],
   "id": "7a4c8cd7fd65729",
   "outputs": [],
   "execution_count": 553
  },
  {
   "metadata": {
    "ExecuteTime": {
     "end_time": "2024-06-20T15:17:19.362868Z",
     "start_time": "2024-06-20T15:17:19.361447Z"
    }
   },
   "cell_type": "code",
   "source": [
    "# касательно \"Дополнительно\". Думаю врядли есть какой-то способ узнать, есть ли там холодильник, \n",
    "# кроме как звонки или просмотр фото, поэтому пропуски там оставлю пропусками\n",
    "# в будущем это превратится в 0 во всех 11 категориях"
   ],
   "id": "db5110711e5732e8",
   "outputs": [],
   "execution_count": 554
  },
  {
   "metadata": {
    "ExecuteTime": {
     "end_time": "2024-06-20T15:17:19.368567Z",
     "start_time": "2024-06-20T15:17:19.363439Z"
    }
   },
   "cell_type": "code",
   "source": [
    "# высоту потолков заполним медианным значением для ценовой категории\n",
    "df['Высота потолков, м'] = df.groupby('Ценовая_группа')['Высота потолков, м'].transform(lambda x: x.fillna(x.median()))"
   ],
   "id": "6546af8ca89ef0c1",
   "outputs": [],
   "execution_count": 555
  },
  {
   "metadata": {
    "ExecuteTime": {
     "end_time": "2024-06-20T15:17:19.371318Z",
     "start_time": "2024-06-20T15:17:19.369402Z"
    }
   },
   "cell_type": "code",
   "source": [
    "# очистим название жк от года\n",
    "def zk_separator(text):\n",
    "    if isinstance(text, str):\n",
    "        return text.split(',')[0]"
   ],
   "id": "a736e5c7509dc9e0",
   "outputs": [],
   "execution_count": 556
  },
  {
   "metadata": {
    "ExecuteTime": {
     "end_time": "2024-06-20T15:17:19.376282Z",
     "start_time": "2024-06-20T15:17:19.372033Z"
    }
   },
   "cell_type": "code",
   "source": "df['ЖК'] =  df['Название ЖК'].apply(zk_separator)",
   "id": "5db27936179088fe",
   "outputs": [],
   "execution_count": 557
  },
  {
   "metadata": {
    "ExecuteTime": {
     "end_time": "2024-06-20T15:17:19.384406Z",
     "start_time": "2024-06-20T15:17:19.380951Z"
    }
   },
   "cell_type": "code",
   "source": [
    "# наличие лифта сначала попробуем притянуть из данных по тому же ЖК\n",
    "df['Лифт'].isnull().sum()"
   ],
   "id": "b83412a5642bf13a",
   "outputs": [
    {
     "data": {
      "text/plain": [
       "4192"
      ]
     },
     "execution_count": 558,
     "metadata": {},
     "output_type": "execute_result"
    }
   ],
   "execution_count": 558
  },
  {
   "metadata": {
    "ExecuteTime": {
     "end_time": "2024-06-20T15:17:19.386763Z",
     "start_time": "2024-06-20T15:17:19.384982Z"
    }
   },
   "cell_type": "code",
   "source": [
    "def fill_mode(group):\n",
    "    mode_value = group.mode().iloc[0] if not group.mode().empty else np.nan\n",
    "    return group.fillna(mode_value)"
   ],
   "id": "4d4b1a224203b5df",
   "outputs": [],
   "execution_count": 559
  },
  {
   "metadata": {
    "ExecuteTime": {
     "end_time": "2024-06-20T15:17:19.446092Z",
     "start_time": "2024-06-20T15:17:19.387318Z"
    }
   },
   "cell_type": "code",
   "source": "df['Лифт'][df['ЖК'].notnull()] = df.groupby('ЖК')['Лифт'].transform(fill_mode)",
   "id": "84d6ede061a82dec",
   "outputs": [
    {
     "name": "stderr",
     "output_type": "stream",
     "text": [
      "/var/folders/bc/yvhfw72j16x2d8p8rd9kcb9h0000gn/T/ipykernel_80554/3783786205.py:3: FutureWarning: Downcasting object dtype arrays on .fillna, .ffill, .bfill is deprecated and will change in a future version. Call result.infer_objects(copy=False) instead. To opt-in to the future behavior, set `pd.set_option('future.no_silent_downcasting', True)`\n",
      "  return group.fillna(mode_value)\n",
      "/var/folders/bc/yvhfw72j16x2d8p8rd9kcb9h0000gn/T/ipykernel_80554/1975238825.py:1: FutureWarning: ChainedAssignmentError: behaviour will change in pandas 3.0!\n",
      "You are setting values through chained assignment. Currently this works in certain cases, but when using Copy-on-Write (which will become the default behaviour in pandas 3.0) this will never work to update the original DataFrame or Series, because the intermediate object on which we are setting values will behave as a copy.\n",
      "A typical example is when you are setting values in a column of a DataFrame, like:\n",
      "\n",
      "df[\"col\"][row_indexer] = value\n",
      "\n",
      "Use `df.loc[row_indexer, \"col\"] = values` instead, to perform the assignment in a single step and ensure this keeps updating the original `df`.\n",
      "\n",
      "See the caveats in the documentation: https://pandas.pydata.org/pandas-docs/stable/user_guide/indexing.html#returning-a-view-versus-a-copy\n",
      "\n",
      "  df['Лифт'][df['ЖК'].notnull()] = df.groupby('ЖК')['Лифт'].transform(fill_mode)\n",
      "/var/folders/bc/yvhfw72j16x2d8p8rd9kcb9h0000gn/T/ipykernel_80554/1975238825.py:1: SettingWithCopyWarning: \n",
      "A value is trying to be set on a copy of a slice from a DataFrame\n",
      "\n",
      "See the caveats in the documentation: https://pandas.pydata.org/pandas-docs/stable/user_guide/indexing.html#returning-a-view-versus-a-copy\n",
      "  df['Лифт'][df['ЖК'].notnull()] = df.groupby('ЖК')['Лифт'].transform(fill_mode)\n"
     ]
    }
   ],
   "execution_count": 560
  },
  {
   "metadata": {
    "ExecuteTime": {
     "end_time": "2024-06-20T15:17:19.449193Z",
     "start_time": "2024-06-20T15:17:19.446698Z"
    }
   },
   "cell_type": "code",
   "source": [
    "# 800 лифтов заполнено, успех!\n",
    "df['Лифт'].isnull().sum()"
   ],
   "id": "69e0ef15e46baf58",
   "outputs": [
    {
     "data": {
      "text/plain": [
       "3363"
      ]
     },
     "execution_count": 561,
     "metadata": {},
     "output_type": "execute_result"
    }
   ],
   "execution_count": 561
  },
  {
   "metadata": {
    "ExecuteTime": {
     "end_time": "2024-06-20T15:17:20.410578Z",
     "start_time": "2024-06-20T15:17:19.449873Z"
    }
   },
   "cell_type": "code",
   "source": [
    "# попробуем по адресу\n",
    "df['Лифт'][df['Адрес'].notnull()] = df.groupby('Адрес')['Лифт'].transform(fill_mode)"
   ],
   "id": "bf50e2d20fe39ae2",
   "outputs": [
    {
     "name": "stderr",
     "output_type": "stream",
     "text": [
      "/var/folders/bc/yvhfw72j16x2d8p8rd9kcb9h0000gn/T/ipykernel_80554/3783786205.py:3: FutureWarning: Downcasting object dtype arrays on .fillna, .ffill, .bfill is deprecated and will change in a future version. Call result.infer_objects(copy=False) instead. To opt-in to the future behavior, set `pd.set_option('future.no_silent_downcasting', True)`\n",
      "  return group.fillna(mode_value)\n",
      "/var/folders/bc/yvhfw72j16x2d8p8rd9kcb9h0000gn/T/ipykernel_80554/1736224954.py:2: FutureWarning: ChainedAssignmentError: behaviour will change in pandas 3.0!\n",
      "You are setting values through chained assignment. Currently this works in certain cases, but when using Copy-on-Write (which will become the default behaviour in pandas 3.0) this will never work to update the original DataFrame or Series, because the intermediate object on which we are setting values will behave as a copy.\n",
      "A typical example is when you are setting values in a column of a DataFrame, like:\n",
      "\n",
      "df[\"col\"][row_indexer] = value\n",
      "\n",
      "Use `df.loc[row_indexer, \"col\"] = values` instead, to perform the assignment in a single step and ensure this keeps updating the original `df`.\n",
      "\n",
      "See the caveats in the documentation: https://pandas.pydata.org/pandas-docs/stable/user_guide/indexing.html#returning-a-view-versus-a-copy\n",
      "\n",
      "  df['Лифт'][df['Адрес'].notnull()] = df.groupby('Адрес')['Лифт'].transform(fill_mode)\n",
      "/var/folders/bc/yvhfw72j16x2d8p8rd9kcb9h0000gn/T/ipykernel_80554/1736224954.py:2: SettingWithCopyWarning: \n",
      "A value is trying to be set on a copy of a slice from a DataFrame\n",
      "\n",
      "See the caveats in the documentation: https://pandas.pydata.org/pandas-docs/stable/user_guide/indexing.html#returning-a-view-versus-a-copy\n",
      "  df['Лифт'][df['Адрес'].notnull()] = df.groupby('Адрес')['Лифт'].transform(fill_mode)\n"
     ]
    }
   ],
   "execution_count": 562
  },
  {
   "metadata": {
    "ExecuteTime": {
     "end_time": "2024-06-20T15:17:20.414220Z",
     "start_time": "2024-06-20T15:17:20.411273Z"
    }
   },
   "cell_type": "code",
   "source": [
    "# еще 800!\n",
    "df['Лифт'].isnull().sum()"
   ],
   "id": "3aa2980c4d0012a4",
   "outputs": [
    {
     "data": {
      "text/plain": [
       "2572"
      ]
     },
     "execution_count": 563,
     "metadata": {},
     "output_type": "execute_result"
    }
   ],
   "execution_count": 563
  },
  {
   "metadata": {
    "ExecuteTime": {
     "end_time": "2024-06-20T15:17:20.416691Z",
     "start_time": "2024-06-20T15:17:20.414988Z"
    }
   },
   "cell_type": "code",
   "source": [
    "# остальные посчитаем в качестве моды для данной этажности дома\n",
    "def get_floor(text):\n",
    "    return int(text.split(',')[0].split('/')[1])"
   ],
   "id": "fa64be6448d46b8d",
   "outputs": [],
   "execution_count": 564
  },
  {
   "metadata": {
    "ExecuteTime": {
     "end_time": "2024-06-20T15:17:20.425502Z",
     "start_time": "2024-06-20T15:17:20.417330Z"
    }
   },
   "cell_type": "code",
   "source": "df['Этажность дома'] = df['Дом'].apply(get_floor)",
   "id": "dd01232b2df1a568",
   "outputs": [],
   "execution_count": 565
  },
  {
   "metadata": {
    "ExecuteTime": {
     "end_time": "2024-06-20T15:17:20.440075Z",
     "start_time": "2024-06-20T15:17:20.426070Z"
    }
   },
   "cell_type": "code",
   "source": "df['Лифт'] = df.groupby('Этажность дома')['Лифт'].transform(fill_mode)",
   "id": "4f1eb918b07fc335",
   "outputs": [
    {
     "name": "stderr",
     "output_type": "stream",
     "text": [
      "/var/folders/bc/yvhfw72j16x2d8p8rd9kcb9h0000gn/T/ipykernel_80554/3783786205.py:3: FutureWarning: Downcasting object dtype arrays on .fillna, .ffill, .bfill is deprecated and will change in a future version. Call result.infer_objects(copy=False) instead. To opt-in to the future behavior, set `pd.set_option('future.no_silent_downcasting', True)`\n",
      "  return group.fillna(mode_value)\n"
     ]
    }
   ],
   "execution_count": 566
  },
  {
   "metadata": {
    "ExecuteTime": {
     "end_time": "2024-06-20T15:17:20.443765Z",
     "start_time": "2024-06-20T15:17:20.440880Z"
    }
   },
   "cell_type": "code",
   "source": [
    "# осталось 5 одноэтажных домов cо спокойной душой тыкнем, что лифта нет\n",
    "df[df['Лифт'].isnull()]['Этажность дома']"
   ],
   "id": "eb2b37eae46f2f28",
   "outputs": [
    {
     "data": {
      "text/plain": [
       "2578     1\n",
       "11759    1\n",
       "17465    1\n",
       "22914    1\n",
       "22954    1\n",
       "Name: Этажность дома, dtype: int64"
      ]
     },
     "execution_count": 567,
     "metadata": {},
     "output_type": "execute_result"
    }
   ],
   "execution_count": 567
  },
  {
   "metadata": {
    "ExecuteTime": {
     "end_time": "2024-06-20T15:17:20.446661Z",
     "start_time": "2024-06-20T15:17:20.444345Z"
    }
   },
   "cell_type": "code",
   "source": "df['Лифт'].fillna('Нет', inplace=True)",
   "id": "fe3dd8d3cda98f81",
   "outputs": [
    {
     "name": "stderr",
     "output_type": "stream",
     "text": [
      "/var/folders/bc/yvhfw72j16x2d8p8rd9kcb9h0000gn/T/ipykernel_80554/2207105457.py:1: FutureWarning: A value is trying to be set on a copy of a DataFrame or Series through chained assignment using an inplace method.\n",
      "The behavior will change in pandas 3.0. This inplace method will never work because the intermediate object on which we are setting values always behaves as a copy.\n",
      "\n",
      "For example, when doing 'df[col].method(value, inplace=True)', try using 'df.method({col: value}, inplace=True)' or df[col] = df[col].method(value) instead, to perform the operation inplace on the original object.\n",
      "\n",
      "\n",
      "  df['Лифт'].fillna('Нет', inplace=True)\n"
     ]
    }
   ],
   "execution_count": 568
  },
  {
   "metadata": {
    "ExecuteTime": {
     "end_time": "2024-06-20T15:17:20.449947Z",
     "start_time": "2024-06-20T15:17:20.447264Z"
    }
   },
   "cell_type": "code",
   "source": "df['Лифт'].isnull().sum()",
   "id": "3d08e3db86c539e9",
   "outputs": [
    {
     "data": {
      "text/plain": [
       "0"
      ]
     },
     "execution_count": 569,
     "metadata": {},
     "output_type": "execute_result"
    }
   ],
   "execution_count": 569
  },
  {
   "metadata": {
    "ExecuteTime": {
     "end_time": "2024-06-20T15:17:20.452999Z",
     "start_time": "2024-06-20T15:17:20.450604Z"
    }
   },
   "cell_type": "code",
   "source": [
    "# с мусоропроводом попробуем поступить также\n",
    "df['Мусоропровод'].isnull().sum()"
   ],
   "id": "c75d93a65ce3b601",
   "outputs": [
    {
     "data": {
      "text/plain": [
       "8007"
      ]
     },
     "execution_count": 570,
     "metadata": {},
     "output_type": "execute_result"
    }
   ],
   "execution_count": 570
  },
  {
   "metadata": {
    "ExecuteTime": {
     "end_time": "2024-06-20T15:17:58.652958Z",
     "start_time": "2024-06-20T15:17:58.647645Z"
    }
   },
   "cell_type": "code",
   "source": [
    "# -2500\n",
    "df['Мусоропровод'][df['ЖК'].notnull()] = df.groupby('ЖК')['Мусоропровод'].transform(fill_mode)\n",
    "df['Мусоропровод'].isnull().sum()"
   ],
   "id": "6601b4a758b682f3",
   "outputs": [
    {
     "data": {
      "text/plain": [
       "5633"
      ]
     },
     "execution_count": 572,
     "metadata": {},
     "output_type": "execute_result"
    }
   ],
   "execution_count": 572
  },
  {
   "metadata": {
    "ExecuteTime": {
     "end_time": "2024-06-20T15:19:02.040875Z",
     "start_time": "2024-06-20T15:19:01.032557Z"
    }
   },
   "cell_type": "code",
   "source": [
    "# -2500\n",
    "df['Мусоропровод'][df['Адрес'].notnull()] = df.groupby('Адрес')['Мусоропровод'].transform(fill_mode)\n",
    "df['Мусоропровод'].isnull().sum()"
   ],
   "id": "ff274b94bec28fa6",
   "outputs": [
    {
     "name": "stderr",
     "output_type": "stream",
     "text": [
      "/var/folders/bc/yvhfw72j16x2d8p8rd9kcb9h0000gn/T/ipykernel_80554/3783786205.py:3: FutureWarning: Downcasting object dtype arrays on .fillna, .ffill, .bfill is deprecated and will change in a future version. Call result.infer_objects(copy=False) instead. To opt-in to the future behavior, set `pd.set_option('future.no_silent_downcasting', True)`\n",
      "  return group.fillna(mode_value)\n",
      "/var/folders/bc/yvhfw72j16x2d8p8rd9kcb9h0000gn/T/ipykernel_80554/2996744860.py:2: FutureWarning: ChainedAssignmentError: behaviour will change in pandas 3.0!\n",
      "You are setting values through chained assignment. Currently this works in certain cases, but when using Copy-on-Write (which will become the default behaviour in pandas 3.0) this will never work to update the original DataFrame or Series, because the intermediate object on which we are setting values will behave as a copy.\n",
      "A typical example is when you are setting values in a column of a DataFrame, like:\n",
      "\n",
      "df[\"col\"][row_indexer] = value\n",
      "\n",
      "Use `df.loc[row_indexer, \"col\"] = values` instead, to perform the assignment in a single step and ensure this keeps updating the original `df`.\n",
      "\n",
      "See the caveats in the documentation: https://pandas.pydata.org/pandas-docs/stable/user_guide/indexing.html#returning-a-view-versus-a-copy\n",
      "\n",
      "  df['Мусоропровод'][df['Адрес'].notnull()] = df.groupby('Адрес')['Мусоропровод'].transform(fill_mode)\n",
      "/var/folders/bc/yvhfw72j16x2d8p8rd9kcb9h0000gn/T/ipykernel_80554/2996744860.py:2: SettingWithCopyWarning: \n",
      "A value is trying to be set on a copy of a slice from a DataFrame\n",
      "\n",
      "See the caveats in the documentation: https://pandas.pydata.org/pandas-docs/stable/user_guide/indexing.html#returning-a-view-versus-a-copy\n",
      "  df['Мусоропровод'][df['Адрес'].notnull()] = df.groupby('Адрес')['Мусоропровод'].transform(fill_mode)\n"
     ]
    },
    {
     "data": {
      "text/plain": [
       "3173"
      ]
     },
     "execution_count": 573,
     "metadata": {},
     "output_type": "execute_result"
    }
   ],
   "execution_count": 573
  },
  {
   "metadata": {
    "ExecuteTime": {
     "end_time": "2024-06-20T15:22:49.562404Z",
     "start_time": "2024-06-20T15:22:49.534335Z"
    }
   },
   "cell_type": "code",
   "source": [
    "# уже не очень логично, но раскидаем так же по этажности\n",
    "df['Мусоропровод'] = df.groupby('Этажность дома')['Мусоропровод'].transform(fill_mode)\n",
    "df['Мусоропровод'].isnull().sum()"
   ],
   "id": "98201bcc95d98a17",
   "outputs": [
    {
     "data": {
      "text/plain": [
       "0"
      ]
     },
     "execution_count": 575,
     "metadata": {},
     "output_type": "execute_result"
    }
   ],
   "execution_count": 575
  },
  {
   "metadata": {
    "ExecuteTime": {
     "end_time": "2024-06-20T15:28:34.413150Z",
     "start_time": "2024-06-20T15:28:34.393816Z"
    }
   },
   "cell_type": "code",
   "source": [
    "# на этом моя работа по очистке всё, закинем нужные нам колонки в новый чистый датасет для \n",
    "# объединения с первой половиной фичей и дальнейшей работой по фич инженерингу\n",
    "\n",
    "# удаляю все вспомогательные фичи (чтобы почти все из них вернуть на фазе 3 ахах)\n",
    "# так же оставляю ссылку чтобы можно было что-то проверить при необходимости\n",
    "\n",
    "df_cleared = df[['ID  объявления', 'Ремонт', 'Площадь комнат, м2', 'Балкон', 'Окна', 'Санузел', \n",
    "                 'Можно с детьми/животными', 'Дополнительно', 'Высота потолков, м', 'Лифт', 'Мусоропровод', 'Ссылка на объявление']]"
   ],
   "id": "82e97429dd43082f",
   "outputs": [],
   "execution_count": 578
  },
  {
   "metadata": {
    "ExecuteTime": {
     "end_time": "2024-06-20T15:28:55.052465Z",
     "start_time": "2024-06-20T15:28:55.039772Z"
    }
   },
   "cell_type": "code",
   "source": [
    "# убеждаемся, что все чистенько, кроме \"Дополнительно\", но так и планировалось\n",
    "df_cleared.isnull().sum()"
   ],
   "id": "759bed0c1b749ba4",
   "outputs": [
    {
     "data": {
      "text/plain": [
       "ID  объявления                0\n",
       "Ремонт                        0\n",
       "Площадь комнат, м2            0\n",
       "Балкон                        0\n",
       "Окна                          0\n",
       "Санузел                       0\n",
       "Можно с детьми/животными      0\n",
       "Дополнительно               272\n",
       "Высота потолков, м            0\n",
       "Лифт                          0\n",
       "Мусоропровод                  0\n",
       "Ссылка на объявление          0\n",
       "dtype: int64"
      ]
     },
     "execution_count": 581,
     "metadata": {},
     "output_type": "execute_result"
    }
   ],
   "execution_count": 581
  },
  {
   "metadata": {
    "ExecuteTime": {
     "end_time": "2024-06-20T15:31:17.676932Z",
     "start_time": "2024-06-20T15:31:17.573854Z"
    }
   },
   "cell_type": "code",
   "source": [
    "# экспорт\n",
    "df_cleared.to_csv('../../data/processed/data_nun_cleared(2_of_2).csv')"
   ],
   "id": "996a872ab037969",
   "outputs": [],
   "execution_count": 583
  }
 ],
 "metadata": {
  "kernelspec": {
   "display_name": "Python 3",
   "language": "python",
   "name": "python3"
  },
  "language_info": {
   "codemirror_mode": {
    "name": "ipython",
    "version": 2
   },
   "file_extension": ".py",
   "mimetype": "text/x-python",
   "name": "python",
   "nbconvert_exporter": "python",
   "pygments_lexer": "ipython2",
   "version": "2.7.6"
  }
 },
 "nbformat": 4,
 "nbformat_minor": 5
}
