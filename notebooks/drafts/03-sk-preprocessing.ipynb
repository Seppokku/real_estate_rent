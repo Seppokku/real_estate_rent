{
 "cells": [
  {
   "cell_type": "code",
   "id": "initial_id",
   "metadata": {
    "collapsed": true,
    "ExecuteTime": {
     "end_time": "2024-06-20T20:44:03.568115Z",
     "start_time": "2024-06-20T20:44:03.565351Z"
    }
   },
   "source": [
    "import pandas as pd\n",
    "import numpy as np\n",
    "pd.options.display.float_format = '{:,.2f}'.format\n",
    "from sklearn.preprocessing import OneHotEncoder\n",
    "import re"
   ],
   "outputs": [],
   "execution_count": 176
  },
  {
   "metadata": {
    "ExecuteTime": {
     "end_time": "2024-06-20T20:44:03.572309Z",
     "start_time": "2024-06-20T20:44:03.570051Z"
    }
   },
   "cell_type": "code",
   "source": [
    "import warnings\n",
    "warnings.filterwarnings('ignore')"
   ],
   "id": "70dd7b3725cf0574",
   "outputs": [],
   "execution_count": 177
  },
  {
   "metadata": {
    "ExecuteTime": {
     "end_time": "2024-06-20T20:44:03.645969Z",
     "start_time": "2024-06-20T20:44:03.573713Z"
    }
   },
   "cell_type": "code",
   "source": "df = pd.read_csv('../../data/processed/data_nun_cleared(2_of_2).csv')",
   "id": "2aeb057f2e9a1ed4",
   "outputs": [],
   "execution_count": 178
  },
  {
   "metadata": {
    "ExecuteTime": {
     "end_time": "2024-06-20T20:44:03.654695Z",
     "start_time": "2024-06-20T20:44:03.646845Z"
    }
   },
   "cell_type": "code",
   "source": "df.info()",
   "id": "434de51428176e39",
   "outputs": [
    {
     "name": "stdout",
     "output_type": "stream",
     "text": [
      "<class 'pandas.core.frame.DataFrame'>\n",
      "RangeIndex: 19737 entries, 0 to 19736\n",
      "Data columns (total 13 columns):\n",
      " #   Column                    Non-Null Count  Dtype  \n",
      "---  ------                    --------------  -----  \n",
      " 0   Unnamed: 0                19737 non-null  int64  \n",
      " 1   ID  объявления            19737 non-null  int64  \n",
      " 2   Ремонт                    19737 non-null  object \n",
      " 3   Площадь комнат, м2        19737 non-null  object \n",
      " 4   Балкон                    19737 non-null  object \n",
      " 5   Окна                      19737 non-null  object \n",
      " 6   Санузел                   19737 non-null  object \n",
      " 7   Можно с детьми/животными  19737 non-null  object \n",
      " 8   Дополнительно             19465 non-null  object \n",
      " 9   Высота потолков, м        19737 non-null  float64\n",
      " 10  Лифт                      19737 non-null  object \n",
      " 11  Мусоропровод              19737 non-null  object \n",
      " 12  Ссылка на объявление      19737 non-null  object \n",
      "dtypes: float64(1), int64(2), object(10)\n",
      "memory usage: 2.0+ MB\n"
     ]
    }
   ],
   "execution_count": 179
  },
  {
   "metadata": {
    "ExecuteTime": {
     "end_time": "2024-06-20T20:44:03.659841Z",
     "start_time": "2024-06-20T20:44:03.655979Z"
    }
   },
   "cell_type": "code",
   "source": "df.drop('Unnamed: 0', inplace=True, axis=1)",
   "id": "9eebe94f30c656c7",
   "outputs": [],
   "execution_count": 180
  },
  {
   "metadata": {
    "ExecuteTime": {
     "end_time": "2024-06-20T20:44:03.663749Z",
     "start_time": "2024-06-20T20:44:03.660457Z"
    }
   },
   "cell_type": "code",
   "source": "df['Ремонт'].value_counts()",
   "id": "3a4d965c713f0702",
   "outputs": [
    {
     "data": {
      "text/plain": [
       "Ремонт\n",
       "Косметический    8410\n",
       "Евроремонт       8160\n",
       "Дизайнерский     3031\n",
       "Без ремонта       136\n",
       "Name: count, dtype: int64"
      ]
     },
     "execution_count": 181,
     "metadata": {},
     "output_type": "execute_result"
    }
   ],
   "execution_count": 181
  },
  {
   "metadata": {
    "ExecuteTime": {
     "end_time": "2024-06-20T20:44:03.669175Z",
     "start_time": "2024-06-20T20:44:03.664190Z"
    }
   },
   "cell_type": "code",
   "source": [
    "encoder = OneHotEncoder(sparse_output=False)\n",
    "encoded_data = encoder.fit_transform(df[['Ремонт']])"
   ],
   "id": "edb88ded6554aa89",
   "outputs": [],
   "execution_count": 182
  },
  {
   "metadata": {
    "ExecuteTime": {
     "end_time": "2024-06-20T20:44:03.671549Z",
     "start_time": "2024-06-20T20:44:03.669793Z"
    }
   },
   "cell_type": "code",
   "source": "encoded_df = pd.DataFrame(encoded_data, columns=encoder.get_feature_names_out(['Ремонт']))",
   "id": "43b5825d62247aa3",
   "outputs": [],
   "execution_count": 183
  },
  {
   "metadata": {
    "ExecuteTime": {
     "end_time": "2024-06-20T20:44:03.674134Z",
     "start_time": "2024-06-20T20:44:03.672169Z"
    }
   },
   "cell_type": "code",
   "source": [
    "# выкидываю столбец \"без ремонта\", чтобы не плодить лишние данные\n",
    "encoded_df.drop('Ремонт_Без ремонта', inplace=True, axis=1)"
   ],
   "id": "4564c99ec6bbb3ca",
   "outputs": [],
   "execution_count": 184
  },
  {
   "metadata": {
    "ExecuteTime": {
     "end_time": "2024-06-20T20:44:03.676972Z",
     "start_time": "2024-06-20T20:44:03.674710Z"
    }
   },
   "cell_type": "code",
   "source": [
    "encoded_df.columns = ['rem_diz', 'rem_evro', 'rem_kosm']\n",
    "df_final = pd.concat([df['ID  объявления'], encoded_df], axis=1)\n",
    "df_final.rename(columns={'ID  объявления': 'id'}, inplace=True)"
   ],
   "id": "a8dabb0cf989b5d7",
   "outputs": [],
   "execution_count": 185
  },
  {
   "metadata": {
    "ExecuteTime": {
     "end_time": "2024-06-20T20:44:03.681965Z",
     "start_time": "2024-06-20T20:44:03.678742Z"
    }
   },
   "cell_type": "code",
   "source": [
    "# смотрим, какие символы нас ждут в площади\n",
    "set(''.join(df['Площадь комнат, м2'].unique().tolist()))"
   ],
   "id": "6d698ba5cac88e75",
   "outputs": [
    {
     "data": {
      "text/plain": [
       "{' ',\n",
       " '(',\n",
       " ')',\n",
       " '+',\n",
       " ',',\n",
       " '-',\n",
       " '.',\n",
       " '/',\n",
       " '0',\n",
       " '1',\n",
       " '2',\n",
       " '3',\n",
       " '4',\n",
       " '5',\n",
       " '6',\n",
       " '7',\n",
       " '8',\n",
       " '9',\n",
       " '²',\n",
       " 'м',\n",
       " '—'}"
      ]
     },
     "execution_count": 186,
     "metadata": {},
     "output_type": "execute_result"
    }
   ],
   "execution_count": 186
  },
  {
   "metadata": {
    "ExecuteTime": {
     "end_time": "2024-06-20T20:44:03.684525Z",
     "start_time": "2024-06-20T20:44:03.682616Z"
    }
   },
   "cell_type": "code",
   "source": [
    "def get_rooms_size(text: str):\n",
    "    # меняем все запятые на точки для корректного отображения чисел\n",
    "    # но если точки есть, то считаем запятые разделителями\n",
    "    \n",
    "    # работа с дебильными значениями типо 18,13,10    \n",
    "    if '.' not in text and ' ()+\\-/—' in text:\n",
    "        text = text.replace(',', '.')\n",
    "    # убираем лишнюю фигню\n",
    "    for char in 'м²':\n",
    "        text = text.replace(char, '')\n",
    "    # все возможные разделители текста\n",
    "    delimiters = r'[ ()+\\-/—,]'\n",
    "    result = re.split(delimiters, text)\n",
    "    result = [item for item in result if item]\n",
    "    return sum((map(float, result)))"
   ],
   "id": "5be3cc211f937904",
   "outputs": [],
   "execution_count": 187
  },
  {
   "metadata": {},
   "cell_type": "code",
   "outputs": [],
   "execution_count": null,
   "source": [
    "# кто-то указал номер телефона в площади... (берем инфу из площади)\n",
    "df.loc[7136, 'Площадь комнат, м2'] = '20'"
   ],
   "id": "3f91759596a6d1b0"
  },
  {
   "metadata": {
    "ExecuteTime": {
     "end_time": "2024-06-20T21:07:33.454098Z",
     "start_time": "2024-06-20T21:07:33.428475Z"
    }
   },
   "cell_type": "code",
   "source": "df_final['rooms_size'] = df['Площадь комнат, м2'].apply(get_rooms_size)",
   "id": "c16be3ef5d813be9",
   "outputs": [],
   "execution_count": 213
  },
  {
   "metadata": {
    "ExecuteTime": {
     "end_time": "2024-06-20T21:11:06.083879Z",
     "start_time": "2024-06-20T21:11:06.076470Z"
    }
   },
   "cell_type": "code",
   "source": "df['Балкон'].value_counts()",
   "id": "cbc84b27851b536a",
   "outputs": [
    {
     "data": {
      "text/plain": [
       "Балкон\n",
       "Нет                       6630\n",
       "Балкон (1)                6336\n",
       "Лоджия (1)                5032\n",
       "Балкон (1), Лоджия (1)     610\n",
       "Лоджия (2)                 537\n",
       "Балкон (2)                 423\n",
       "Балкон (3)                  45\n",
       "Лоджия (3)                  42\n",
       "Балкон (2), Лоджия (2)      21\n",
       "Балкон (1), Лоджия (2)      21\n",
       "Балкон (2), Лоджия (1)      16\n",
       "Лоджия (4)                   5\n",
       "Балкон (4)                   4\n",
       "Балкон (3), Лоджия (1)       4\n",
       "Балкон (1), Лоджия (3)       4\n",
       "Балкон (2), Лоджия (3)       3\n",
       "Балкон (1), Лоджия (4)       2\n",
       "Балкон (3), Лоджия (3)       1\n",
       "Балкон (4), Лоджия (4)       1\n",
       "Name: count, dtype: int64"
      ]
     },
     "execution_count": 221,
     "metadata": {},
     "output_type": "execute_result"
    }
   ],
   "execution_count": 221
  },
  {
   "metadata": {
    "ExecuteTime": {
     "end_time": "2024-06-20T21:11:39.237927Z",
     "start_time": "2024-06-20T21:11:39.234182Z"
    }
   },
   "cell_type": "code",
   "source": [
    "def balcony_values(description):\n",
    "    balcony_match = re.search(r'Балкон \\((\\d+)\\)', description)\n",
    "    loggia_match = re.search(r'Лоджия \\((\\d+)\\)', description)\n",
    "    balcony = int(balcony_match.group(1)) if balcony_match else 0\n",
    "    loggia = int(loggia_match.group(1)) if loggia_match else 0\n",
    "    return pd.Series([balcony, loggia])"
   ],
   "id": "9ba1944ae3054676",
   "outputs": [],
   "execution_count": 222
  },
  {
   "metadata": {
    "ExecuteTime": {
     "end_time": "2024-06-20T21:13:41.930233Z",
     "start_time": "2024-06-20T21:13:41.292524Z"
    }
   },
   "cell_type": "code",
   "source": "df_final[['balcony', 'logia']] = df['Балкон'].apply(balcony_values)",
   "id": "1cf68fad752c75b9",
   "outputs": [],
   "execution_count": 227
  },
  {
   "metadata": {
    "ExecuteTime": {
     "end_time": "2024-06-20T21:15:06.615948Z",
     "start_time": "2024-06-20T21:15:06.612714Z"
    }
   },
   "cell_type": "code",
   "source": "df['Окна'].value_counts()",
   "id": "3d59fe6a38653a6f",
   "outputs": [
    {
     "data": {
      "text/plain": [
       "Окна\n",
       "Во двор            14374\n",
       "На улицу и двор     3246\n",
       "На улицу            2117\n",
       "Name: count, dtype: int64"
      ]
     },
     "execution_count": 230,
     "metadata": {},
     "output_type": "execute_result"
    }
   ],
   "execution_count": 230
  },
  {
   "metadata": {
    "ExecuteTime": {
     "end_time": "2024-06-20T21:21:47.199527Z",
     "start_time": "2024-06-20T21:21:47.195645Z"
    }
   },
   "cell_type": "code",
   "source": [
    "def view_encode(view):\n",
    "    if view == 'Во двор':\n",
    "        return pd.Series([1, 0])\n",
    "    elif view == 'На улицу':\n",
    "        return pd.Series([0, 1])\n",
    "    else:\n",
    "        return pd.Series([1, 1])"
   ],
   "id": "486d627562242475",
   "outputs": [],
   "execution_count": 233
  },
  {
   "metadata": {
    "ExecuteTime": {
     "end_time": "2024-06-20T21:21:49.471116Z",
     "start_time": "2024-06-20T21:21:48.846072Z"
    }
   },
   "cell_type": "code",
   "source": "df_final[['dvor_view', 'street_view']] = df['Окна'].apply(view_encode)",
   "id": "8817d5c265b4a465",
   "outputs": [],
   "execution_count": 234
  },
  {
   "metadata": {
    "ExecuteTime": {
     "end_time": "2024-06-20T21:26:57.870486Z",
     "start_time": "2024-06-20T21:26:57.866859Z"
    }
   },
   "cell_type": "code",
   "source": [
    "def toilet_values(description):\n",
    "    merged_match = re.search(r'Совмещенный \\((\\d+)\\)', description)\n",
    "    split_match = re.search(r'Раздельный \\((\\d+)\\)', description)\n",
    "    merged = int(merged_match.group(1)) if merged_match else 0\n",
    "    split = int(split_match.group(1)) if split_match else 0\n",
    "    return pd.Series([merged, split])"
   ],
   "id": "e637668e321f704c",
   "outputs": [],
   "execution_count": 245
  },
  {
   "metadata": {
    "ExecuteTime": {
     "end_time": "2024-06-20T21:27:00.046277Z",
     "start_time": "2024-06-20T21:26:59.291687Z"
    }
   },
   "cell_type": "code",
   "source": "df_final[['merged_toilet', 'split_toilet']] = df['Санузел'].apply(toilet_values)",
   "id": "1720a0ab9439467e",
   "outputs": [],
   "execution_count": 246
  },
  {
   "metadata": {
    "ExecuteTime": {
     "end_time": "2024-06-20T21:27:54.392515Z",
     "start_time": "2024-06-20T21:27:54.386450Z"
    }
   },
   "cell_type": "code",
   "source": "df['Можно с детьми/животными'].value_counts()",
   "id": "4bb8e6758ce4614b",
   "outputs": [
    {
     "data": {
      "text/plain": [
       "Можно с детьми/животными\n",
       "Можно с детьми                       8540\n",
       "Можно с детьми, Можно с животными    6075\n",
       "Ни с кем нельзя!                     4915\n",
       "Можно с животными                     207\n",
       "Name: count, dtype: int64"
      ]
     },
     "execution_count": 250,
     "metadata": {},
     "output_type": "execute_result"
    }
   ],
   "execution_count": 250
  },
  {
   "metadata": {
    "ExecuteTime": {
     "end_time": "2024-06-20T21:29:18.540558Z",
     "start_time": "2024-06-20T21:29:18.536596Z"
    }
   },
   "cell_type": "code",
   "source": [
    "def allow_encode(allow):\n",
    "    if allow == 'Можно с детьми':\n",
    "        return pd.Series([1, 0])\n",
    "    elif allow == 'Можно с животными':\n",
    "        return pd.Series([0, 1])\n",
    "    elif allow == 'Можно с детьми, Можно с животными':\n",
    "        return pd.Series([1, 1])\n",
    "    else:\n",
    "        return pd.Series([0, 0])"
   ],
   "id": "171a3d80a251fc0b",
   "outputs": [],
   "execution_count": 251
  },
  {
   "metadata": {
    "ExecuteTime": {
     "end_time": "2024-06-20T21:30:16.995986Z",
     "start_time": "2024-06-20T21:30:16.396301Z"
    }
   },
   "cell_type": "code",
   "source": "df_final[['kids_allowed', 'pets_allowed']] = df['Можно с детьми/животными'].apply(allow_encode)",
   "id": "9d79ee6b78cd9c81",
   "outputs": [],
   "execution_count": 253
  },
  {
   "metadata": {
    "ExecuteTime": {
     "end_time": "2024-06-20T21:41:44.745524Z",
     "start_time": "2024-06-20T21:41:44.740557Z"
    }
   },
   "cell_type": "code",
   "source": "df['Дополнительно'].fillna('', inplace=True)",
   "id": "8ad733b69fadb452",
   "outputs": [],
   "execution_count": 269
  },
  {
   "metadata": {
    "ExecuteTime": {
     "end_time": "2024-06-20T21:41:47.605386Z",
     "start_time": "2024-06-20T21:41:47.602699Z"
    }
   },
   "cell_type": "code",
   "source": [
    "def encode_features(equipment_list):\n",
    "    equipment_items = equipment_list.split(', ')\n",
    "    features = [\n",
    "        'Мебель в комнатах', 'Мебель на кухне', 'Ванна', 'Душевая кабина', \n",
    "        'Стиральная машина', 'Кондиционер', 'Посудомоечная машина', \n",
    "        'Телевизор', 'Холодильник', 'Интернет', 'Телефон'\n",
    "    ]\n",
    "    encoded_features = {feature: (1 if feature in equipment_items else 0) for feature in features}\n",
    "    return pd.Series(encoded_features)"
   ],
   "id": "e64df0e7a417e043",
   "outputs": [],
   "execution_count": 270
  },
  {
   "metadata": {
    "ExecuteTime": {
     "end_time": "2024-06-20T21:45:01.547656Z",
     "start_time": "2024-06-20T21:45:00.331180Z"
    }
   },
   "cell_type": "code",
   "source": [
    "df_final[['furn_in_rooms', 'furn_at_kitchen', 'bath',\n",
    "        'shower', 'washing', 'aircon', 'dishwaser',\n",
    "        'tv', 'freezer', 'internet', 'phone']] = df['Дополнительно'].apply(encode_features)"
   ],
   "id": "e01a943d69237a8a",
   "outputs": [],
   "execution_count": 276
  },
  {
   "metadata": {
    "ExecuteTime": {
     "end_time": "2024-06-20T21:49:44.042738Z",
     "start_time": "2024-06-20T21:49:44.038226Z"
    }
   },
   "cell_type": "code",
   "source": [
    "# убираем выбросы\n",
    "df.loc[df['Высота потолков, м'] > 150, 'Высота потолков, м'] = df['Высота потолков, м'] / 100\n",
    "df.loc[df['Высота потолков, м'] > 15, 'Высота потолков, м'] = df['Высота потолков, м'] / 10"
   ],
   "id": "79fd329810e36bd5",
   "outputs": [],
   "execution_count": 287
  },
  {
   "metadata": {
    "ExecuteTime": {
     "end_time": "2024-06-20T21:53:14.151487Z",
     "start_time": "2024-06-20T21:53:14.147032Z"
    }
   },
   "cell_type": "code",
   "source": [
    "# убираем жилье хоббита\n",
    "df.loc[df['Высота потолков, м'] == 1.2, 'Высота потолков, м'] = df['Высота потолков, м'].median()"
   ],
   "id": "3f6c9841e6d9fabb",
   "outputs": [],
   "execution_count": 291
  },
  {
   "metadata": {
    "ExecuteTime": {
     "end_time": "2024-06-20T21:54:39.586893Z",
     "start_time": "2024-06-20T21:54:39.581636Z"
    }
   },
   "cell_type": "code",
   "source": [
    "# и великана\n",
    "df.loc[df['Высота потолков, м'] == 12.8, 'Высота потолков, м'] = df['Высота потолков, м'].median()"
   ],
   "id": "31fa954f3b84c3e2",
   "outputs": [],
   "execution_count": 294
  },
  {
   "metadata": {
    "ExecuteTime": {
     "end_time": "2024-06-20T21:56:15.698079Z",
     "start_time": "2024-06-20T21:56:15.694423Z"
    }
   },
   "cell_type": "code",
   "source": "df_final['ceiling_height'] = df['Высота потолков, м']",
   "id": "23ad6817b93a73bb",
   "outputs": [],
   "execution_count": 298
  },
  {
   "metadata": {
    "ExecuteTime": {
     "end_time": "2024-06-20T21:58:42.476913Z",
     "start_time": "2024-06-20T21:58:42.473389Z"
    }
   },
   "cell_type": "code",
   "source": [
    "def lift_values(description):\n",
    "    pass_match = re.search(r'Пасс \\((\\d+)\\)', description)\n",
    "    gruz_match = re.search(r'Груз \\((\\d+)\\)', description)\n",
    "    pass_lift = int(pass_match.group(1)) if pass_match else 0\n",
    "    gruz_lift = int(gruz_match.group(1)) if gruz_match else 0\n",
    "    return pd.Series([pass_lift, gruz_lift])"
   ],
   "id": "af7095c696e23747",
   "outputs": [],
   "execution_count": 305
  },
  {
   "metadata": {
    "ExecuteTime": {
     "end_time": "2024-06-20T21:59:43.111634Z",
     "start_time": "2024-06-20T21:59:42.420376Z"
    }
   },
   "cell_type": "code",
   "source": "df_final[['pass_lift', 'gruz_lift']] = df['Лифт'].apply(lift_values)",
   "id": "a603dc018c97c5bd",
   "outputs": [],
   "execution_count": 306
  },
  {
   "metadata": {
    "ExecuteTime": {
     "end_time": "2024-06-20T22:01:25.645917Z",
     "start_time": "2024-06-20T22:01:25.637239Z"
    }
   },
   "cell_type": "code",
   "source": "df_final['trashprovod'] = df['Мусоропровод'].apply(lambda x: 1 if x == 'Да' else 0)",
   "id": "4fa0e830cb7724d2",
   "outputs": [],
   "execution_count": 309
  },
  {
   "metadata": {
    "ExecuteTime": {
     "end_time": "2024-06-20T22:06:35.769848Z",
     "start_time": "2024-06-20T22:06:35.766480Z"
    }
   },
   "cell_type": "code",
   "source": [
    "# разбираемся с выбросами\n",
    "df_final.loc[df_final['pass_lift'] > 10, 'pass_lift'] = df_final['pass_lift'] / 10\n",
    "df_final.loc[df_final['gruz_lift'] == 12, 'gruz_lift'] = 1"
   ],
   "id": "f4044997fd371a2",
   "outputs": [],
   "execution_count": 316
  },
  {
   "metadata": {
    "ExecuteTime": {
     "end_time": "2024-06-20T22:06:37.688449Z",
     "start_time": "2024-06-20T22:06:37.652470Z"
    }
   },
   "cell_type": "code",
   "source": "df_final.describe()",
   "id": "9a2bd62da49f44e6",
   "outputs": [
    {
     "data": {
      "text/plain": [
       "                  id   rem_diz  rem_evro  rem_kosm  rooms_size   balcony  \\\n",
       "count      19,737.00 19,737.00 19,737.00 19,737.00   19,737.00 19,737.00   \n",
       "mean  267,114,888.22      0.15      0.41      0.43       39.76      0.41   \n",
       "std    19,801,055.08      0.36      0.49      0.49       33.76      0.55   \n",
       "min   107,298,592.00      0.00      0.00      0.00        0.00      0.00   \n",
       "25%   271,221,229.00      0.00      0.00      0.00       20.00      0.00   \n",
       "50%   273,928,403.00      0.00      0.00      0.00       31.00      0.00   \n",
       "75%   274,697,333.00      0.00      1.00      1.00       44.80      1.00   \n",
       "max   275,006,443.00      1.00      1.00      1.00    1,410.00      4.00   \n",
       "\n",
       "          logia  dvor_view  street_view  merged_toilet  ...    aircon  \\\n",
       "count 19,737.00  19,737.00    19,737.00      19,737.00  ... 19,737.00   \n",
       "mean       0.35       0.89         0.27           0.75  ...      0.40   \n",
       "std        0.55       0.31         0.44           0.70  ...      0.49   \n",
       "min        0.00       0.00         0.00           0.00  ...      0.00   \n",
       "25%        0.00       1.00         0.00           0.00  ...      0.00   \n",
       "50%        0.00       1.00         0.00           1.00  ...      0.00   \n",
       "75%        1.00       1.00         1.00           1.00  ...      1.00   \n",
       "max        4.00       1.00         1.00           4.00  ...      1.00   \n",
       "\n",
       "       dishwaser        tv   freezer  internet     phone  ceiling_height  \\\n",
       "count  19,737.00 19,737.00 19,737.00 19,737.00 19,737.00       19,737.00   \n",
       "mean        0.34      0.64      0.86      0.79      0.20            2.76   \n",
       "std         0.47      0.48      0.35      0.41      0.40            0.24   \n",
       "min         0.00      0.00      0.00      0.00      0.00            2.00   \n",
       "25%         0.00      0.00      1.00      1.00      0.00            2.64   \n",
       "50%         0.00      1.00      1.00      1.00      0.00            2.64   \n",
       "75%         1.00      1.00      1.00      1.00      0.00            2.80   \n",
       "max         1.00      1.00      1.00      1.00      1.00            6.00   \n",
       "\n",
       "       pass_lift  gruz_lift  trashprovod  \n",
       "count  19,737.00  19,737.00    19,737.00  \n",
       "mean        1.48       0.41         0.79  \n",
       "std         0.73       0.64         0.41  \n",
       "min         0.00       0.00         0.00  \n",
       "25%         1.00       0.00         1.00  \n",
       "50%         1.00       0.00         1.00  \n",
       "75%         2.00       1.00         1.00  \n",
       "max         8.00       8.00         1.00  \n",
       "\n",
       "[8 rows x 28 columns]"
      ],
      "text/html": [
       "<div>\n",
       "<style scoped>\n",
       "    .dataframe tbody tr th:only-of-type {\n",
       "        vertical-align: middle;\n",
       "    }\n",
       "\n",
       "    .dataframe tbody tr th {\n",
       "        vertical-align: top;\n",
       "    }\n",
       "\n",
       "    .dataframe thead th {\n",
       "        text-align: right;\n",
       "    }\n",
       "</style>\n",
       "<table border=\"1\" class=\"dataframe\">\n",
       "  <thead>\n",
       "    <tr style=\"text-align: right;\">\n",
       "      <th></th>\n",
       "      <th>id</th>\n",
       "      <th>rem_diz</th>\n",
       "      <th>rem_evro</th>\n",
       "      <th>rem_kosm</th>\n",
       "      <th>rooms_size</th>\n",
       "      <th>balcony</th>\n",
       "      <th>logia</th>\n",
       "      <th>dvor_view</th>\n",
       "      <th>street_view</th>\n",
       "      <th>merged_toilet</th>\n",
       "      <th>...</th>\n",
       "      <th>aircon</th>\n",
       "      <th>dishwaser</th>\n",
       "      <th>tv</th>\n",
       "      <th>freezer</th>\n",
       "      <th>internet</th>\n",
       "      <th>phone</th>\n",
       "      <th>ceiling_height</th>\n",
       "      <th>pass_lift</th>\n",
       "      <th>gruz_lift</th>\n",
       "      <th>trashprovod</th>\n",
       "    </tr>\n",
       "  </thead>\n",
       "  <tbody>\n",
       "    <tr>\n",
       "      <th>count</th>\n",
       "      <td>19,737.00</td>\n",
       "      <td>19,737.00</td>\n",
       "      <td>19,737.00</td>\n",
       "      <td>19,737.00</td>\n",
       "      <td>19,737.00</td>\n",
       "      <td>19,737.00</td>\n",
       "      <td>19,737.00</td>\n",
       "      <td>19,737.00</td>\n",
       "      <td>19,737.00</td>\n",
       "      <td>19,737.00</td>\n",
       "      <td>...</td>\n",
       "      <td>19,737.00</td>\n",
       "      <td>19,737.00</td>\n",
       "      <td>19,737.00</td>\n",
       "      <td>19,737.00</td>\n",
       "      <td>19,737.00</td>\n",
       "      <td>19,737.00</td>\n",
       "      <td>19,737.00</td>\n",
       "      <td>19,737.00</td>\n",
       "      <td>19,737.00</td>\n",
       "      <td>19,737.00</td>\n",
       "    </tr>\n",
       "    <tr>\n",
       "      <th>mean</th>\n",
       "      <td>267,114,888.22</td>\n",
       "      <td>0.15</td>\n",
       "      <td>0.41</td>\n",
       "      <td>0.43</td>\n",
       "      <td>39.76</td>\n",
       "      <td>0.41</td>\n",
       "      <td>0.35</td>\n",
       "      <td>0.89</td>\n",
       "      <td>0.27</td>\n",
       "      <td>0.75</td>\n",
       "      <td>...</td>\n",
       "      <td>0.40</td>\n",
       "      <td>0.34</td>\n",
       "      <td>0.64</td>\n",
       "      <td>0.86</td>\n",
       "      <td>0.79</td>\n",
       "      <td>0.20</td>\n",
       "      <td>2.76</td>\n",
       "      <td>1.48</td>\n",
       "      <td>0.41</td>\n",
       "      <td>0.79</td>\n",
       "    </tr>\n",
       "    <tr>\n",
       "      <th>std</th>\n",
       "      <td>19,801,055.08</td>\n",
       "      <td>0.36</td>\n",
       "      <td>0.49</td>\n",
       "      <td>0.49</td>\n",
       "      <td>33.76</td>\n",
       "      <td>0.55</td>\n",
       "      <td>0.55</td>\n",
       "      <td>0.31</td>\n",
       "      <td>0.44</td>\n",
       "      <td>0.70</td>\n",
       "      <td>...</td>\n",
       "      <td>0.49</td>\n",
       "      <td>0.47</td>\n",
       "      <td>0.48</td>\n",
       "      <td>0.35</td>\n",
       "      <td>0.41</td>\n",
       "      <td>0.40</td>\n",
       "      <td>0.24</td>\n",
       "      <td>0.73</td>\n",
       "      <td>0.64</td>\n",
       "      <td>0.41</td>\n",
       "    </tr>\n",
       "    <tr>\n",
       "      <th>min</th>\n",
       "      <td>107,298,592.00</td>\n",
       "      <td>0.00</td>\n",
       "      <td>0.00</td>\n",
       "      <td>0.00</td>\n",
       "      <td>0.00</td>\n",
       "      <td>0.00</td>\n",
       "      <td>0.00</td>\n",
       "      <td>0.00</td>\n",
       "      <td>0.00</td>\n",
       "      <td>0.00</td>\n",
       "      <td>...</td>\n",
       "      <td>0.00</td>\n",
       "      <td>0.00</td>\n",
       "      <td>0.00</td>\n",
       "      <td>0.00</td>\n",
       "      <td>0.00</td>\n",
       "      <td>0.00</td>\n",
       "      <td>2.00</td>\n",
       "      <td>0.00</td>\n",
       "      <td>0.00</td>\n",
       "      <td>0.00</td>\n",
       "    </tr>\n",
       "    <tr>\n",
       "      <th>25%</th>\n",
       "      <td>271,221,229.00</td>\n",
       "      <td>0.00</td>\n",
       "      <td>0.00</td>\n",
       "      <td>0.00</td>\n",
       "      <td>20.00</td>\n",
       "      <td>0.00</td>\n",
       "      <td>0.00</td>\n",
       "      <td>1.00</td>\n",
       "      <td>0.00</td>\n",
       "      <td>0.00</td>\n",
       "      <td>...</td>\n",
       "      <td>0.00</td>\n",
       "      <td>0.00</td>\n",
       "      <td>0.00</td>\n",
       "      <td>1.00</td>\n",
       "      <td>1.00</td>\n",
       "      <td>0.00</td>\n",
       "      <td>2.64</td>\n",
       "      <td>1.00</td>\n",
       "      <td>0.00</td>\n",
       "      <td>1.00</td>\n",
       "    </tr>\n",
       "    <tr>\n",
       "      <th>50%</th>\n",
       "      <td>273,928,403.00</td>\n",
       "      <td>0.00</td>\n",
       "      <td>0.00</td>\n",
       "      <td>0.00</td>\n",
       "      <td>31.00</td>\n",
       "      <td>0.00</td>\n",
       "      <td>0.00</td>\n",
       "      <td>1.00</td>\n",
       "      <td>0.00</td>\n",
       "      <td>1.00</td>\n",
       "      <td>...</td>\n",
       "      <td>0.00</td>\n",
       "      <td>0.00</td>\n",
       "      <td>1.00</td>\n",
       "      <td>1.00</td>\n",
       "      <td>1.00</td>\n",
       "      <td>0.00</td>\n",
       "      <td>2.64</td>\n",
       "      <td>1.00</td>\n",
       "      <td>0.00</td>\n",
       "      <td>1.00</td>\n",
       "    </tr>\n",
       "    <tr>\n",
       "      <th>75%</th>\n",
       "      <td>274,697,333.00</td>\n",
       "      <td>0.00</td>\n",
       "      <td>1.00</td>\n",
       "      <td>1.00</td>\n",
       "      <td>44.80</td>\n",
       "      <td>1.00</td>\n",
       "      <td>1.00</td>\n",
       "      <td>1.00</td>\n",
       "      <td>1.00</td>\n",
       "      <td>1.00</td>\n",
       "      <td>...</td>\n",
       "      <td>1.00</td>\n",
       "      <td>1.00</td>\n",
       "      <td>1.00</td>\n",
       "      <td>1.00</td>\n",
       "      <td>1.00</td>\n",
       "      <td>0.00</td>\n",
       "      <td>2.80</td>\n",
       "      <td>2.00</td>\n",
       "      <td>1.00</td>\n",
       "      <td>1.00</td>\n",
       "    </tr>\n",
       "    <tr>\n",
       "      <th>max</th>\n",
       "      <td>275,006,443.00</td>\n",
       "      <td>1.00</td>\n",
       "      <td>1.00</td>\n",
       "      <td>1.00</td>\n",
       "      <td>1,410.00</td>\n",
       "      <td>4.00</td>\n",
       "      <td>4.00</td>\n",
       "      <td>1.00</td>\n",
       "      <td>1.00</td>\n",
       "      <td>4.00</td>\n",
       "      <td>...</td>\n",
       "      <td>1.00</td>\n",
       "      <td>1.00</td>\n",
       "      <td>1.00</td>\n",
       "      <td>1.00</td>\n",
       "      <td>1.00</td>\n",
       "      <td>1.00</td>\n",
       "      <td>6.00</td>\n",
       "      <td>8.00</td>\n",
       "      <td>8.00</td>\n",
       "      <td>1.00</td>\n",
       "    </tr>\n",
       "  </tbody>\n",
       "</table>\n",
       "<p>8 rows × 28 columns</p>\n",
       "</div>"
      ]
     },
     "execution_count": 317,
     "metadata": {},
     "output_type": "execute_result"
    }
   ],
   "execution_count": 317
  },
  {
   "metadata": {
    "ExecuteTime": {
     "end_time": "2024-06-20T22:09:17.663731Z",
     "start_time": "2024-06-20T22:09:17.575067Z"
    }
   },
   "cell_type": "code",
   "source": [
    "# экспортируем\n",
    "df_final.to_csv('../../data/processed/data_final(2_of_2).csv')"
   ],
   "id": "eb498d9770c23a72",
   "outputs": [],
   "execution_count": 318
  }
 ],
 "metadata": {
  "kernelspec": {
   "display_name": "Python 3",
   "language": "python",
   "name": "python3"
  },
  "language_info": {
   "codemirror_mode": {
    "name": "ipython",
    "version": 2
   },
   "file_extension": ".py",
   "mimetype": "text/x-python",
   "name": "python",
   "nbconvert_exporter": "python",
   "pygments_lexer": "ipython2",
   "version": "2.7.6"
  }
 },
 "nbformat": 4,
 "nbformat_minor": 5
}
