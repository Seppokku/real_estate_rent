{
 "cells": [
  {
   "cell_type": "code",
   "id": "initial_id",
   "metadata": {
    "collapsed": true,
    "ExecuteTime": {
     "end_time": "2024-06-21T06:57:27.067833Z",
     "start_time": "2024-06-21T06:57:27.065826Z"
    }
   },
   "source": [
    "import pandas as pd\n",
    "import numpy as np\n",
    "pd.options.display.float_format = '{:,.2f}'.format\n",
    "from sklearn.preprocessing import OneHotEncoder\n",
    "import re"
   ],
   "outputs": [],
   "execution_count": 4
  },
  {
   "metadata": {
    "ExecuteTime": {
     "end_time": "2024-06-21T06:57:27.144041Z",
     "start_time": "2024-06-21T06:57:27.142389Z"
    }
   },
   "cell_type": "code",
   "source": [
    "import warnings\n",
    "warnings.filterwarnings('ignore')"
   ],
   "id": "70dd7b3725cf0574",
   "outputs": [],
   "execution_count": 5
  },
  {
   "metadata": {
    "ExecuteTime": {
     "end_time": "2024-06-21T06:57:27.225471Z",
     "start_time": "2024-06-21T06:57:27.169003Z"
    }
   },
   "cell_type": "code",
   "source": "df = pd.read_csv('../../data/interim/data_nun_cleared(2_of_2).csv')",
   "id": "2aeb057f2e9a1ed4",
   "outputs": [],
   "execution_count": 6
  },
  {
   "metadata": {
    "ExecuteTime": {
     "end_time": "2024-06-21T06:57:27.235315Z",
     "start_time": "2024-06-21T06:57:27.226592Z"
    }
   },
   "cell_type": "code",
   "source": "df.info()",
   "id": "434de51428176e39",
   "outputs": [
    {
     "name": "stdout",
     "output_type": "stream",
     "text": [
      "<class 'pandas.core.frame.DataFrame'>\n",
      "RangeIndex: 19737 entries, 0 to 19736\n",
      "Data columns (total 13 columns):\n",
      " #   Column                    Non-Null Count  Dtype  \n",
      "---  ------                    --------------  -----  \n",
      " 0   Unnamed: 0                19737 non-null  int64  \n",
      " 1   ID  объявления            19737 non-null  int64  \n",
      " 2   Ремонт                    19737 non-null  object \n",
      " 3   Площадь комнат, м2        19737 non-null  object \n",
      " 4   Балкон                    19737 non-null  object \n",
      " 5   Окна                      19737 non-null  object \n",
      " 6   Санузел                   19737 non-null  object \n",
      " 7   Можно с детьми/животными  19737 non-null  object \n",
      " 8   Дополнительно             19465 non-null  object \n",
      " 9   Высота потолков, м        19737 non-null  float64\n",
      " 10  Лифт                      19737 non-null  object \n",
      " 11  Мусоропровод              19737 non-null  object \n",
      " 12  Ссылка на объявление      19737 non-null  object \n",
      "dtypes: float64(1), int64(2), object(10)\n",
      "memory usage: 2.0+ MB\n"
     ]
    }
   ],
   "execution_count": 7
  },
  {
   "metadata": {
    "ExecuteTime": {
     "end_time": "2024-06-21T06:57:27.239740Z",
     "start_time": "2024-06-21T06:57:27.236018Z"
    }
   },
   "cell_type": "code",
   "source": "df.drop('Unnamed: 0', inplace=True, axis=1)",
   "id": "9eebe94f30c656c7",
   "outputs": [],
   "execution_count": 8
  },
  {
   "metadata": {
    "ExecuteTime": {
     "end_time": "2024-06-21T06:57:27.244492Z",
     "start_time": "2024-06-21T06:57:27.240809Z"
    }
   },
   "cell_type": "code",
   "source": "df['Ремонт'].value_counts()",
   "id": "3a4d965c713f0702",
   "outputs": [
    {
     "data": {
      "text/plain": [
       "Ремонт\n",
       "Косметический    8410\n",
       "Евроремонт       8160\n",
       "Дизайнерский     3031\n",
       "Без ремонта       136\n",
       "Name: count, dtype: int64"
      ]
     },
     "execution_count": 9,
     "metadata": {},
     "output_type": "execute_result"
    }
   ],
   "execution_count": 9
  },
  {
   "metadata": {
    "ExecuteTime": {
     "end_time": "2024-06-21T06:57:27.250627Z",
     "start_time": "2024-06-21T06:57:27.245341Z"
    }
   },
   "cell_type": "code",
   "source": [
    "encoder = OneHotEncoder(sparse_output=False)\n",
    "encoded_data = encoder.fit_transform(df[['Ремонт']])"
   ],
   "id": "edb88ded6554aa89",
   "outputs": [],
   "execution_count": 10
  },
  {
   "metadata": {
    "ExecuteTime": {
     "end_time": "2024-06-21T06:57:27.263302Z",
     "start_time": "2024-06-21T06:57:27.261545Z"
    }
   },
   "cell_type": "code",
   "source": "encoded_df = pd.DataFrame(encoded_data, columns=encoder.get_feature_names_out(['Ремонт']))",
   "id": "43b5825d62247aa3",
   "outputs": [],
   "execution_count": 11
  },
  {
   "metadata": {
    "ExecuteTime": {
     "end_time": "2024-06-21T06:57:27.303716Z",
     "start_time": "2024-06-21T06:57:27.301776Z"
    }
   },
   "cell_type": "code",
   "source": [
    "# выкидываю столбец \"без ремонта\", чтобы не плодить лишние данные\n",
    "encoded_df.drop('Ремонт_Без ремонта', inplace=True, axis=1)"
   ],
   "id": "4564c99ec6bbb3ca",
   "outputs": [],
   "execution_count": 12
  },
  {
   "metadata": {
    "ExecuteTime": {
     "end_time": "2024-06-21T06:57:27.341206Z",
     "start_time": "2024-06-21T06:57:27.338337Z"
    }
   },
   "cell_type": "code",
   "source": [
    "encoded_df.columns = ['rem_diz', 'rem_evro', 'rem_kosm']\n",
    "df_final = pd.concat([df['ID  объявления'], encoded_df], axis=1)\n",
    "df_final.rename(columns={'ID  объявления': 'id'}, inplace=True)"
   ],
   "id": "a8dabb0cf989b5d7",
   "outputs": [],
   "execution_count": 13
  },
  {
   "metadata": {
    "ExecuteTime": {
     "end_time": "2024-06-21T06:57:27.369253Z",
     "start_time": "2024-06-21T06:57:27.365782Z"
    }
   },
   "cell_type": "code",
   "source": [
    "# смотрим, какие символы нас ждут в площади\n",
    "set(''.join(df['Площадь комнат, м2'].unique().tolist()))"
   ],
   "id": "6d698ba5cac88e75",
   "outputs": [
    {
     "data": {
      "text/plain": [
       "{' ',\n",
       " '(',\n",
       " ')',\n",
       " '+',\n",
       " ',',\n",
       " '-',\n",
       " '.',\n",
       " '/',\n",
       " '0',\n",
       " '1',\n",
       " '2',\n",
       " '3',\n",
       " '4',\n",
       " '5',\n",
       " '6',\n",
       " '7',\n",
       " '8',\n",
       " '9',\n",
       " '²',\n",
       " 'м',\n",
       " '—'}"
      ]
     },
     "execution_count": 14,
     "metadata": {},
     "output_type": "execute_result"
    }
   ],
   "execution_count": 14
  },
  {
   "metadata": {
    "ExecuteTime": {
     "end_time": "2024-06-21T06:57:27.390338Z",
     "start_time": "2024-06-21T06:57:27.387984Z"
    }
   },
   "cell_type": "code",
   "source": [
    "def get_rooms_size(text: str):\n",
    "    # меняем все запятые на точки для корректного отображения чисел\n",
    "    # но если точки есть, то считаем запятые разделителями\n",
    "    \n",
    "    # работа с дебильными значениями типо 18,13,10    \n",
    "    if '.' not in text and ' ()+\\-/—' in text:\n",
    "        text = text.replace(',', '.')\n",
    "    # убираем лишнюю фигню\n",
    "    for char in 'м²':\n",
    "        text = text.replace(char, '')\n",
    "    # все возможные разделители текста\n",
    "    delimiters = r'[ ()+\\-/—,]'\n",
    "    result = re.split(delimiters, text)\n",
    "    result = [item for item in result if item]\n",
    "    return sum((map(float, result)))"
   ],
   "id": "5be3cc211f937904",
   "outputs": [],
   "execution_count": 15
  },
  {
   "metadata": {
    "ExecuteTime": {
     "end_time": "2024-06-21T06:57:27.405899Z",
     "start_time": "2024-06-21T06:57:27.403728Z"
    }
   },
   "cell_type": "code",
   "source": [
    "# кто-то указал номер телефона в площади... (берем инфу из площади)\n",
    "df.loc[7136, 'Площадь комнат, м2'] = '20'"
   ],
   "id": "3f91759596a6d1b0",
   "outputs": [],
   "execution_count": 16
  },
  {
   "metadata": {
    "ExecuteTime": {
     "end_time": "2024-06-21T06:57:27.425941Z",
     "start_time": "2024-06-21T06:57:27.409395Z"
    }
   },
   "cell_type": "code",
   "source": "df_final['rooms_size'] = df['Площадь комнат, м2'].apply(get_rooms_size)",
   "id": "c16be3ef5d813be9",
   "outputs": [],
   "execution_count": 17
  },
  {
   "metadata": {
    "ExecuteTime": {
     "end_time": "2024-06-21T06:57:27.442052Z",
     "start_time": "2024-06-21T06:57:27.438418Z"
    }
   },
   "cell_type": "code",
   "source": "df['Балкон'].value_counts()",
   "id": "cbc84b27851b536a",
   "outputs": [
    {
     "data": {
      "text/plain": [
       "Балкон\n",
       "Нет                       6630\n",
       "Балкон (1)                6336\n",
       "Лоджия (1)                5032\n",
       "Балкон (1), Лоджия (1)     610\n",
       "Лоджия (2)                 537\n",
       "Балкон (2)                 423\n",
       "Балкон (3)                  45\n",
       "Лоджия (3)                  42\n",
       "Балкон (2), Лоджия (2)      21\n",
       "Балкон (1), Лоджия (2)      21\n",
       "Балкон (2), Лоджия (1)      16\n",
       "Лоджия (4)                   5\n",
       "Балкон (4)                   4\n",
       "Балкон (3), Лоджия (1)       4\n",
       "Балкон (1), Лоджия (3)       4\n",
       "Балкон (2), Лоджия (3)       3\n",
       "Балкон (1), Лоджия (4)       2\n",
       "Балкон (3), Лоджия (3)       1\n",
       "Балкон (4), Лоджия (4)       1\n",
       "Name: count, dtype: int64"
      ]
     },
     "execution_count": 18,
     "metadata": {},
     "output_type": "execute_result"
    }
   ],
   "execution_count": 18
  },
  {
   "metadata": {
    "ExecuteTime": {
     "end_time": "2024-06-21T06:57:27.459318Z",
     "start_time": "2024-06-21T06:57:27.457247Z"
    }
   },
   "cell_type": "code",
   "source": [
    "def balcony_values(description):\n",
    "    balcony_match = re.search(r'Балкон \\((\\d+)\\)', description)\n",
    "    loggia_match = re.search(r'Лоджия \\((\\d+)\\)', description)\n",
    "    balcony = int(balcony_match.group(1)) if balcony_match else 0\n",
    "    loggia = int(loggia_match.group(1)) if loggia_match else 0\n",
    "    return pd.Series([balcony, loggia])"
   ],
   "id": "9ba1944ae3054676",
   "outputs": [],
   "execution_count": 19
  },
  {
   "metadata": {
    "ExecuteTime": {
     "end_time": "2024-06-21T06:57:28.122851Z",
     "start_time": "2024-06-21T06:57:27.474889Z"
    }
   },
   "cell_type": "code",
   "source": "df_final[['balcony', 'logia']] = df['Балкон'].apply(balcony_values)",
   "id": "1cf68fad752c75b9",
   "outputs": [],
   "execution_count": 20
  },
  {
   "metadata": {
    "ExecuteTime": {
     "end_time": "2024-06-21T06:57:28.128473Z",
     "start_time": "2024-06-21T06:57:28.124342Z"
    }
   },
   "cell_type": "code",
   "source": "df['Окна'].value_counts()",
   "id": "3d59fe6a38653a6f",
   "outputs": [
    {
     "data": {
      "text/plain": [
       "Окна\n",
       "Во двор            14374\n",
       "На улицу и двор     3246\n",
       "На улицу            2117\n",
       "Name: count, dtype: int64"
      ]
     },
     "execution_count": 21,
     "metadata": {},
     "output_type": "execute_result"
    }
   ],
   "execution_count": 21
  },
  {
   "metadata": {
    "ExecuteTime": {
     "end_time": "2024-06-21T06:57:28.131352Z",
     "start_time": "2024-06-21T06:57:28.129171Z"
    }
   },
   "cell_type": "code",
   "source": [
    "def view_encode(view):\n",
    "    if view == 'Во двор':\n",
    "        return pd.Series([1, 0])\n",
    "    elif view == 'На улицу':\n",
    "        return pd.Series([0, 1])\n",
    "    else:\n",
    "        return pd.Series([1, 1])"
   ],
   "id": "486d627562242475",
   "outputs": [],
   "execution_count": 22
  },
  {
   "metadata": {
    "ExecuteTime": {
     "end_time": "2024-06-21T06:57:28.694467Z",
     "start_time": "2024-06-21T06:57:28.132731Z"
    }
   },
   "cell_type": "code",
   "source": "df_final[['dvor_view', 'street_view']] = df['Окна'].apply(view_encode)",
   "id": "8817d5c265b4a465",
   "outputs": [],
   "execution_count": 23
  },
  {
   "metadata": {
    "ExecuteTime": {
     "end_time": "2024-06-21T06:57:28.696856Z",
     "start_time": "2024-06-21T06:57:28.695018Z"
    }
   },
   "cell_type": "code",
   "source": [
    "def toilet_values(description):\n",
    "    merged_match = re.search(r'Совмещенный \\((\\d+)\\)', description)\n",
    "    split_match = re.search(r'Раздельный \\((\\d+)\\)', description)\n",
    "    merged = int(merged_match.group(1)) if merged_match else 0\n",
    "    split = int(split_match.group(1)) if split_match else 0\n",
    "    return pd.Series([merged, split])"
   ],
   "id": "e637668e321f704c",
   "outputs": [],
   "execution_count": 24
  },
  {
   "metadata": {
    "ExecuteTime": {
     "end_time": "2024-06-21T06:57:29.327886Z",
     "start_time": "2024-06-21T06:57:28.697541Z"
    }
   },
   "cell_type": "code",
   "source": "df_final[['merged_toilet', 'split_toilet']] = df['Санузел'].apply(toilet_values)",
   "id": "1720a0ab9439467e",
   "outputs": [],
   "execution_count": 25
  },
  {
   "metadata": {
    "ExecuteTime": {
     "end_time": "2024-06-21T06:57:29.331812Z",
     "start_time": "2024-06-21T06:57:29.328513Z"
    }
   },
   "cell_type": "code",
   "source": "df['Можно с детьми/животными'].value_counts()",
   "id": "4bb8e6758ce4614b",
   "outputs": [
    {
     "data": {
      "text/plain": [
       "Можно с детьми/животными\n",
       "Можно с детьми                       8540\n",
       "Можно с детьми, Можно с животными    6075\n",
       "Ни с кем нельзя!                     4915\n",
       "Можно с животными                     207\n",
       "Name: count, dtype: int64"
      ]
     },
     "execution_count": 26,
     "metadata": {},
     "output_type": "execute_result"
    }
   ],
   "execution_count": 26
  },
  {
   "metadata": {
    "ExecuteTime": {
     "end_time": "2024-06-21T06:57:29.334463Z",
     "start_time": "2024-06-21T06:57:29.332483Z"
    }
   },
   "cell_type": "code",
   "source": [
    "def allow_encode(allow):\n",
    "    if allow == 'Можно с детьми':\n",
    "        return pd.Series([1, 0])\n",
    "    elif allow == 'Можно с животными':\n",
    "        return pd.Series([0, 1])\n",
    "    elif allow == 'Можно с детьми, Можно с животными':\n",
    "        return pd.Series([1, 1])\n",
    "    else:\n",
    "        return pd.Series([0, 0])"
   ],
   "id": "171a3d80a251fc0b",
   "outputs": [],
   "execution_count": 27
  },
  {
   "metadata": {
    "ExecuteTime": {
     "end_time": "2024-06-21T06:57:29.929492Z",
     "start_time": "2024-06-21T06:57:29.335077Z"
    }
   },
   "cell_type": "code",
   "source": "df_final[['kids_allowed', 'pets_allowed']] = df['Можно с детьми/животными'].apply(allow_encode)",
   "id": "9d79ee6b78cd9c81",
   "outputs": [],
   "execution_count": 28
  },
  {
   "metadata": {
    "ExecuteTime": {
     "end_time": "2024-06-21T06:57:29.934056Z",
     "start_time": "2024-06-21T06:57:29.931512Z"
    }
   },
   "cell_type": "code",
   "source": "df['Дополнительно'].fillna('', inplace=True)",
   "id": "8ad733b69fadb452",
   "outputs": [],
   "execution_count": 29
  },
  {
   "metadata": {
    "ExecuteTime": {
     "end_time": "2024-06-21T06:57:29.936867Z",
     "start_time": "2024-06-21T06:57:29.934713Z"
    }
   },
   "cell_type": "code",
   "source": [
    "def encode_features(equipment_list):\n",
    "    equipment_items = equipment_list.split(', ')\n",
    "    features = [\n",
    "        'Мебель в комнатах', 'Мебель на кухне', 'Ванна', 'Душевая кабина', \n",
    "        'Стиральная машина', 'Кондиционер', 'Посудомоечная машина', \n",
    "        'Телевизор', 'Холодильник', 'Интернет', 'Телефон'\n",
    "    ]\n",
    "    encoded_features = {feature: (1 if feature in equipment_items else 0) for feature in features}\n",
    "    return pd.Series(encoded_features)"
   ],
   "id": "e64df0e7a417e043",
   "outputs": [],
   "execution_count": 30
  },
  {
   "metadata": {
    "ExecuteTime": {
     "end_time": "2024-06-21T06:57:31.055939Z",
     "start_time": "2024-06-21T06:57:29.937652Z"
    }
   },
   "cell_type": "code",
   "source": [
    "df_final[['furn_in_rooms', 'furn_at_kitchen', 'bath',\n",
    "        'shower', 'washing', 'aircon', 'dishwaser',\n",
    "        'tv', 'freezer', 'internet', 'phone']] = df['Дополнительно'].apply(encode_features)"
   ],
   "id": "e01a943d69237a8a",
   "outputs": [],
   "execution_count": 31
  },
  {
   "metadata": {
    "ExecuteTime": {
     "end_time": "2024-06-21T06:57:31.060237Z",
     "start_time": "2024-06-21T06:57:31.056644Z"
    }
   },
   "cell_type": "code",
   "source": [
    "# убираем выбросы\n",
    "df.loc[df['Высота потолков, м'] > 150, 'Высота потолков, м'] = df['Высота потолков, м'] / 100\n",
    "df.loc[df['Высота потолков, м'] > 15, 'Высота потолков, м'] = df['Высота потолков, м'] / 10"
   ],
   "id": "79fd329810e36bd5",
   "outputs": [],
   "execution_count": 32
  },
  {
   "metadata": {
    "ExecuteTime": {
     "end_time": "2024-06-21T06:57:31.063514Z",
     "start_time": "2024-06-21T06:57:31.061143Z"
    }
   },
   "cell_type": "code",
   "source": [
    "# убираем жилье хоббита\n",
    "df.loc[df['Высота потолков, м'] == 1.2, 'Высота потолков, м'] = df['Высота потолков, м'].median()"
   ],
   "id": "3f6c9841e6d9fabb",
   "outputs": [],
   "execution_count": 33
  },
  {
   "metadata": {
    "ExecuteTime": {
     "end_time": "2024-06-21T06:57:31.066268Z",
     "start_time": "2024-06-21T06:57:31.064133Z"
    }
   },
   "cell_type": "code",
   "source": [
    "# и великана\n",
    "df.loc[df['Высота потолков, м'] == 12.8, 'Высота потолков, м'] = df['Высота потолков, м'].median()"
   ],
   "id": "31fa954f3b84c3e2",
   "outputs": [],
   "execution_count": 34
  },
  {
   "metadata": {
    "ExecuteTime": {
     "end_time": "2024-06-21T06:57:31.069278Z",
     "start_time": "2024-06-21T06:57:31.066979Z"
    }
   },
   "cell_type": "code",
   "source": "df_final['ceiling_height'] = df['Высота потолков, м']",
   "id": "23ad6817b93a73bb",
   "outputs": [],
   "execution_count": 35
  },
  {
   "metadata": {
    "ExecuteTime": {
     "end_time": "2024-06-21T06:57:31.072063Z",
     "start_time": "2024-06-21T06:57:31.070123Z"
    }
   },
   "cell_type": "code",
   "source": [
    "def lift_values(description):\n",
    "    pass_match = re.search(r'Пасс \\((\\d+)\\)', description)\n",
    "    gruz_match = re.search(r'Груз \\((\\d+)\\)', description)\n",
    "    pass_lift = int(pass_match.group(1)) if pass_match else 0\n",
    "    gruz_lift = int(gruz_match.group(1)) if gruz_match else 0\n",
    "    return pd.Series([pass_lift, gruz_lift])"
   ],
   "id": "af7095c696e23747",
   "outputs": [],
   "execution_count": 36
  },
  {
   "metadata": {
    "ExecuteTime": {
     "end_time": "2024-06-21T06:57:31.642940Z",
     "start_time": "2024-06-21T06:57:31.072654Z"
    }
   },
   "cell_type": "code",
   "source": "df_final[['pass_lift', 'gruz_lift']] = df['Лифт'].apply(lift_values)",
   "id": "a603dc018c97c5bd",
   "outputs": [],
   "execution_count": 37
  },
  {
   "metadata": {
    "ExecuteTime": {
     "end_time": "2024-06-21T06:57:31.648465Z",
     "start_time": "2024-06-21T06:57:31.643552Z"
    }
   },
   "cell_type": "code",
   "source": "df_final['trashprovod'] = df['Мусоропровод'].apply(lambda x: 1 if x == 'Да' else 0)",
   "id": "4fa0e830cb7724d2",
   "outputs": [],
   "execution_count": 38
  },
  {
   "metadata": {
    "ExecuteTime": {
     "end_time": "2024-06-21T06:57:31.652187Z",
     "start_time": "2024-06-21T06:57:31.649173Z"
    }
   },
   "cell_type": "code",
   "source": [
    "# разбираемся с выбросами\n",
    "df_final.loc[df_final['pass_lift'] > 10, 'pass_lift'] = df_final['pass_lift'] / 10\n",
    "df_final.loc[df_final['gruz_lift'] == 12, 'gruz_lift'] = 1"
   ],
   "id": "f4044997fd371a2",
   "outputs": [],
   "execution_count": 39
  },
  {
   "metadata": {
    "ExecuteTime": {
     "end_time": "2024-06-21T06:58:01.102243Z",
     "start_time": "2024-06-21T06:58:01.100029Z"
    }
   },
   "cell_type": "code",
   "source": "df_final['link'] = df['Ссылка на объявление']",
   "id": "225215ba36243928",
   "outputs": [],
   "execution_count": 42
  },
  {
   "metadata": {
    "ExecuteTime": {
     "end_time": "2024-06-21T06:58:31.810818Z",
     "start_time": "2024-06-21T06:58:31.804176Z"
    }
   },
   "cell_type": "code",
   "source": "df_final.head()",
   "id": "9a2bd62da49f44e6",
   "outputs": [
    {
     "data": {
      "text/plain": [
       "          id  rem_diz  rem_evro  rem_kosm  rooms_size  balcony  logia  \\\n",
       "0  271271157     1.00      0.00      0.00      140.00        0      0   \n",
       "1  271634126     1.00      0.00      0.00       95.00        0      0   \n",
       "2  271173086     0.00      1.00      0.00      116.00        0      0   \n",
       "3  272197456     0.00      1.00      0.00       95.00        0      0   \n",
       "4  273614615     0.00      1.00      0.00       38.00        0      0   \n",
       "\n",
       "   dvor_view  street_view  merged_toilet  ...  dishwaser  tv  freezer  \\\n",
       "0          1            1              2  ...          1   1        1   \n",
       "1          1            1              2  ...          1   1        1   \n",
       "2          1            1              3  ...          1   1        1   \n",
       "3          1            1              3  ...          1   1        1   \n",
       "4          1            1              2  ...          1   1        1   \n",
       "\n",
       "   internet  phone  ceiling_height  pass_lift  gruz_lift  trashprovod  \\\n",
       "0         1      1            3.00          4          1            1   \n",
       "1         1      0            3.50          1          1            0   \n",
       "2         1      1            3.20          1          0            1   \n",
       "3         1      1            3.20          1          0            1   \n",
       "4         1      0            3.90          1          1            1   \n",
       "\n",
       "                                      link  \n",
       "0  https://www.cian.ru/rent/flat/271271157  \n",
       "1  https://www.cian.ru/rent/flat/271634126  \n",
       "2  https://www.cian.ru/rent/flat/271173086  \n",
       "3  https://www.cian.ru/rent/flat/272197456  \n",
       "4  https://www.cian.ru/rent/flat/273614615  \n",
       "\n",
       "[5 rows x 29 columns]"
      ],
      "text/html": [
       "<div>\n",
       "<style scoped>\n",
       "    .dataframe tbody tr th:only-of-type {\n",
       "        vertical-align: middle;\n",
       "    }\n",
       "\n",
       "    .dataframe tbody tr th {\n",
       "        vertical-align: top;\n",
       "    }\n",
       "\n",
       "    .dataframe thead th {\n",
       "        text-align: right;\n",
       "    }\n",
       "</style>\n",
       "<table border=\"1\" class=\"dataframe\">\n",
       "  <thead>\n",
       "    <tr style=\"text-align: right;\">\n",
       "      <th></th>\n",
       "      <th>id</th>\n",
       "      <th>rem_diz</th>\n",
       "      <th>rem_evro</th>\n",
       "      <th>rem_kosm</th>\n",
       "      <th>rooms_size</th>\n",
       "      <th>balcony</th>\n",
       "      <th>logia</th>\n",
       "      <th>dvor_view</th>\n",
       "      <th>street_view</th>\n",
       "      <th>merged_toilet</th>\n",
       "      <th>...</th>\n",
       "      <th>dishwaser</th>\n",
       "      <th>tv</th>\n",
       "      <th>freezer</th>\n",
       "      <th>internet</th>\n",
       "      <th>phone</th>\n",
       "      <th>ceiling_height</th>\n",
       "      <th>pass_lift</th>\n",
       "      <th>gruz_lift</th>\n",
       "      <th>trashprovod</th>\n",
       "      <th>link</th>\n",
       "    </tr>\n",
       "  </thead>\n",
       "  <tbody>\n",
       "    <tr>\n",
       "      <th>0</th>\n",
       "      <td>271271157</td>\n",
       "      <td>1.00</td>\n",
       "      <td>0.00</td>\n",
       "      <td>0.00</td>\n",
       "      <td>140.00</td>\n",
       "      <td>0</td>\n",
       "      <td>0</td>\n",
       "      <td>1</td>\n",
       "      <td>1</td>\n",
       "      <td>2</td>\n",
       "      <td>...</td>\n",
       "      <td>1</td>\n",
       "      <td>1</td>\n",
       "      <td>1</td>\n",
       "      <td>1</td>\n",
       "      <td>1</td>\n",
       "      <td>3.00</td>\n",
       "      <td>4</td>\n",
       "      <td>1</td>\n",
       "      <td>1</td>\n",
       "      <td>https://www.cian.ru/rent/flat/271271157</td>\n",
       "    </tr>\n",
       "    <tr>\n",
       "      <th>1</th>\n",
       "      <td>271634126</td>\n",
       "      <td>1.00</td>\n",
       "      <td>0.00</td>\n",
       "      <td>0.00</td>\n",
       "      <td>95.00</td>\n",
       "      <td>0</td>\n",
       "      <td>0</td>\n",
       "      <td>1</td>\n",
       "      <td>1</td>\n",
       "      <td>2</td>\n",
       "      <td>...</td>\n",
       "      <td>1</td>\n",
       "      <td>1</td>\n",
       "      <td>1</td>\n",
       "      <td>1</td>\n",
       "      <td>0</td>\n",
       "      <td>3.50</td>\n",
       "      <td>1</td>\n",
       "      <td>1</td>\n",
       "      <td>0</td>\n",
       "      <td>https://www.cian.ru/rent/flat/271634126</td>\n",
       "    </tr>\n",
       "    <tr>\n",
       "      <th>2</th>\n",
       "      <td>271173086</td>\n",
       "      <td>0.00</td>\n",
       "      <td>1.00</td>\n",
       "      <td>0.00</td>\n",
       "      <td>116.00</td>\n",
       "      <td>0</td>\n",
       "      <td>0</td>\n",
       "      <td>1</td>\n",
       "      <td>1</td>\n",
       "      <td>3</td>\n",
       "      <td>...</td>\n",
       "      <td>1</td>\n",
       "      <td>1</td>\n",
       "      <td>1</td>\n",
       "      <td>1</td>\n",
       "      <td>1</td>\n",
       "      <td>3.20</td>\n",
       "      <td>1</td>\n",
       "      <td>0</td>\n",
       "      <td>1</td>\n",
       "      <td>https://www.cian.ru/rent/flat/271173086</td>\n",
       "    </tr>\n",
       "    <tr>\n",
       "      <th>3</th>\n",
       "      <td>272197456</td>\n",
       "      <td>0.00</td>\n",
       "      <td>1.00</td>\n",
       "      <td>0.00</td>\n",
       "      <td>95.00</td>\n",
       "      <td>0</td>\n",
       "      <td>0</td>\n",
       "      <td>1</td>\n",
       "      <td>1</td>\n",
       "      <td>3</td>\n",
       "      <td>...</td>\n",
       "      <td>1</td>\n",
       "      <td>1</td>\n",
       "      <td>1</td>\n",
       "      <td>1</td>\n",
       "      <td>1</td>\n",
       "      <td>3.20</td>\n",
       "      <td>1</td>\n",
       "      <td>0</td>\n",
       "      <td>1</td>\n",
       "      <td>https://www.cian.ru/rent/flat/272197456</td>\n",
       "    </tr>\n",
       "    <tr>\n",
       "      <th>4</th>\n",
       "      <td>273614615</td>\n",
       "      <td>0.00</td>\n",
       "      <td>1.00</td>\n",
       "      <td>0.00</td>\n",
       "      <td>38.00</td>\n",
       "      <td>0</td>\n",
       "      <td>0</td>\n",
       "      <td>1</td>\n",
       "      <td>1</td>\n",
       "      <td>2</td>\n",
       "      <td>...</td>\n",
       "      <td>1</td>\n",
       "      <td>1</td>\n",
       "      <td>1</td>\n",
       "      <td>1</td>\n",
       "      <td>0</td>\n",
       "      <td>3.90</td>\n",
       "      <td>1</td>\n",
       "      <td>1</td>\n",
       "      <td>1</td>\n",
       "      <td>https://www.cian.ru/rent/flat/273614615</td>\n",
       "    </tr>\n",
       "  </tbody>\n",
       "</table>\n",
       "<p>5 rows × 29 columns</p>\n",
       "</div>"
      ]
     },
     "execution_count": 45,
     "metadata": {},
     "output_type": "execute_result"
    }
   ],
   "execution_count": 45
  },
  {
   "metadata": {
    "ExecuteTime": {
     "end_time": "2024-06-21T06:58:51.670807Z",
     "start_time": "2024-06-21T06:58:51.590838Z"
    }
   },
   "cell_type": "code",
   "source": [
    "# экспортируем\n",
    "df_final.to_csv('../../data/interim/data_encoded(2_of_2).csv')"
   ],
   "id": "eb498d9770c23a72",
   "outputs": [],
   "execution_count": 46
  }
 ],
 "metadata": {
  "kernelspec": {
   "display_name": "Python 3",
   "language": "python",
   "name": "python3"
  },
  "language_info": {
   "codemirror_mode": {
    "name": "ipython",
    "version": 2
   },
   "file_extension": ".py",
   "mimetype": "text/x-python",
   "name": "python",
   "nbconvert_exporter": "python",
   "pygments_lexer": "ipython2",
   "version": "2.7.6"
  }
 },
 "nbformat": 4,
 "nbformat_minor": 5
}
